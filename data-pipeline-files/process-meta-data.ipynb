{
 "cells": [
  {
   "cell_type": "code",
   "execution_count": null,
   "metadata": {
    "_cell_guid": "b1076dfc-b9ad-4769-8c92-a6c4dae69d19",
    "_uuid": "8f2839f25d086af736a60e9eeb907d3b93b6e0e5",
    "execution": {
     "iopub.execute_input": "2025-04-15T06:22:03.237128Z",
     "iopub.status.busy": "2025-04-15T06:22:03.236827Z",
     "iopub.status.idle": "2025-04-15T06:22:03.248460Z",
     "shell.execute_reply": "2025-04-15T06:22:03.247303Z",
     "shell.execute_reply.started": "2025-04-15T06:22:03.237108Z"
    },
    "trusted": true
   },
   "outputs": [],
   "source": []
  },
  {
   "cell_type": "code",
   "execution_count": 1,
   "metadata": {
    "execution": {
     "iopub.execute_input": "2025-04-15T06:11:12.145253Z",
     "iopub.status.busy": "2025-04-15T06:11:12.145003Z",
     "iopub.status.idle": "2025-04-15T06:11:15.824353Z",
     "shell.execute_reply": "2025-04-15T06:11:15.823242Z",
     "shell.execute_reply.started": "2025-04-15T06:11:12.145235Z"
    },
    "trusted": true
   },
   "outputs": [
    {
     "name": "stdout",
     "output_type": "stream",
     "text": [
      "Defaulting to user installation because normal site-packages is not writeable\n",
      "Requirement already satisfied: langdetect in /Users/riyagarg/Library/Python/3.9/lib/python/site-packages (1.0.9)\n",
      "Requirement already satisfied: six in /Library/Developer/CommandLineTools/Library/Frameworks/Python3.framework/Versions/3.9/lib/python3.9/site-packages (from langdetect) (1.15.0)\n",
      "\n",
      "\u001b[1m[\u001b[0m\u001b[34;49mnotice\u001b[0m\u001b[1;39;49m]\u001b[0m\u001b[39;49m A new release of pip is available: \u001b[0m\u001b[31;49m25.0.1\u001b[0m\u001b[39;49m -> \u001b[0m\u001b[32;49m25.1\u001b[0m\n",
      "\u001b[1m[\u001b[0m\u001b[34;49mnotice\u001b[0m\u001b[1;39;49m]\u001b[0m\u001b[39;49m To update, run: \u001b[0m\u001b[32;49m/Library/Developer/CommandLineTools/usr/bin/python3 -m pip install --upgrade pip\u001b[0m\n"
     ]
    }
   ],
   "source": [
    "!pip install langdetect\n"
   ]
  },
  {
   "cell_type": "code",
   "execution_count": 2,
   "metadata": {
    "execution": {
     "iopub.execute_input": "2025-04-15T06:22:06.807547Z",
     "iopub.status.busy": "2025-04-15T06:22:06.806292Z",
     "iopub.status.idle": "2025-04-15T06:22:06.812179Z",
     "shell.execute_reply": "2025-04-15T06:22:06.811246Z",
     "shell.execute_reply.started": "2025-04-15T06:22:06.807448Z"
    },
    "trusted": true
   },
   "outputs": [],
   "source": [
    "import json\n",
    "from langdetect import detect\n",
    "from langdetect.lang_detect_exception import LangDetectException\n",
    "from tqdm import tqdm\n",
    "import csv"
   ]
  },
  {
   "cell_type": "code",
   "execution_count": 14,
   "metadata": {
    "execution": {
     "iopub.execute_input": "2025-04-15T06:45:11.438637Z",
     "iopub.status.busy": "2025-04-15T06:45:11.438268Z",
     "iopub.status.idle": "2025-04-15T06:45:11.443478Z",
     "shell.execute_reply": "2025-04-15T06:45:11.442482Z",
     "shell.execute_reply.started": "2025-04-15T06:45:11.438604Z"
    },
    "trusted": true
   },
   "outputs": [],
   "source": [
    "input_path = '/mnt/object/metadata/arxiv-metadata-oai.json'\n",
    "output_path = '/home/cc/arxiv_cleaned_v1.csv'\n",
    "pdf_filenames_csv = '/Users/riyagarg/Download/all_files_list.txt'  # Replace this with your CSV file path\n",
    "pdf_filenames_txt = '/Users/riyagarg/Downloads/all_files_list.txt'"
   ]
  },
  {
   "cell_type": "code",
   "execution_count": 9,
   "metadata": {
    "execution": {
     "iopub.execute_input": "2025-04-15T06:45:11.859657Z",
     "iopub.status.busy": "2025-04-15T06:45:11.859322Z",
     "iopub.status.idle": "2025-04-15T06:45:11.864554Z",
     "shell.execute_reply": "2025-04-15T06:45:11.863606Z",
     "shell.execute_reply.started": "2025-04-15T06:45:11.859634Z"
    },
    "trusted": true
   },
   "outputs": [],
   "source": [
    "def is_english(text):\n",
    "    try:\n",
    "        return detect(text) == 'en'\n",
    "    except LangDetectException:\n",
    "        return False\n"
   ]
  },
  {
   "cell_type": "code",
   "execution_count": 10,
   "metadata": {
    "execution": {
     "iopub.execute_input": "2025-04-15T06:45:12.337255Z",
     "iopub.status.busy": "2025-04-15T06:45:12.336942Z",
     "iopub.status.idle": "2025-04-15T06:45:12.342152Z",
     "shell.execute_reply": "2025-04-15T06:45:12.341287Z",
     "shell.execute_reply.started": "2025-04-15T06:45:12.337232Z"
    },
    "trusted": true
   },
   "outputs": [],
   "source": [
    "def extract_latest_version_info(versions):\n",
    "    if not versions or not isinstance(versions, list):\n",
    "        return \"\", \"\"\n",
    "    latest = versions[-1]\n",
    "    return latest.get('version', ''), latest.get('created', '')\n"
   ]
  },
  {
   "cell_type": "code",
   "execution_count": 11,
   "metadata": {
    "execution": {
     "iopub.execute_input": "2025-04-15T06:45:12.734365Z",
     "iopub.status.busy": "2025-04-15T06:45:12.734045Z",
     "iopub.status.idle": "2025-04-15T06:45:12.739824Z",
     "shell.execute_reply": "2025-04-15T06:45:12.738949Z",
     "shell.execute_reply.started": "2025-04-15T06:45:12.734343Z"
    },
    "trusted": true
   },
   "outputs": [],
   "source": [
    "def flatten_authors(authors_parsed):\n",
    "    if not authors_parsed or not isinstance(authors_parsed, list):\n",
    "        return \"\"\n",
    "    return \", \".join(\" \".join(filter(None, author)) for author in authors_parsed)"
   ]
  },
  {
   "cell_type": "code",
   "execution_count": 16,
   "metadata": {
    "execution": {
     "iopub.execute_input": "2025-04-15T06:45:16.408397Z",
     "iopub.status.busy": "2025-04-15T06:45:16.408086Z",
     "iopub.status.idle": "2025-04-15T06:45:16.462540Z",
     "shell.execute_reply": "2025-04-15T06:45:16.461737Z",
     "shell.execute_reply.started": "2025-04-15T06:45:16.408364Z"
    },
    "trusted": true
   },
   "outputs": [
    {
     "name": "stdout",
     "output_type": "stream",
     "text": [
      "Loaded 364068 PDF filenames.\n"
     ]
    }
   ],
   "source": [
    "pdf_filenames_set = set()\n",
    "with open(pdf_filenames_txt, 'r', encoding='utf-8') as f:\n",
    "    for line in f:\n",
    "        filename = line.strip()\n",
    "        if filename:\n",
    "            pdf_filenames_set.add(filename)\n",
    "\n",
    "print(f\"Loaded {len(pdf_filenames_set)} PDF filenames.\")"
   ]
  },
  {
   "cell_type": "code",
   "execution_count": 17,
   "metadata": {
    "execution": {
     "iopub.execute_input": "2025-04-15T06:45:16.803065Z",
     "iopub.status.busy": "2025-04-15T06:45:16.802794Z",
     "iopub.status.idle": "2025-04-15T06:45:16.808931Z",
     "shell.execute_reply": "2025-04-15T06:45:16.807776Z",
     "shell.execute_reply.started": "2025-04-15T06:45:16.803047Z"
    },
    "trusted": true
   },
   "outputs": [
    {
     "name": "stdout",
     "output_type": "stream",
     "text": [
      "364068\n"
     ]
    }
   ],
   "source": [
    "print(len(pdf_filenames_set))"
   ]
  },
  {
   "cell_type": "code",
   "execution_count": 95,
   "metadata": {
    "execution": {
     "iopub.execute_input": "2025-04-15T06:45:17.504426Z",
     "iopub.status.busy": "2025-04-15T06:45:17.504109Z",
     "iopub.status.idle": "2025-04-15T06:45:17.508860Z",
     "shell.execute_reply": "2025-04-15T06:45:17.507898Z",
     "shell.execute_reply.started": "2025-04-15T06:45:17.504404Z"
    },
    "trusted": true
   },
   "outputs": [],
   "source": [
    "total_lines = 2600000  # Estimate for tqdm (can adjust if needed)\n",
    "english_count = 0\n",
    "fieldnames_written = False"
   ]
  },
  {
   "cell_type": "code",
   "execution_count": 96,
   "metadata": {
    "execution": {
     "iopub.execute_input": "2025-04-15T06:45:20.654402Z",
     "iopub.status.busy": "2025-04-15T06:45:20.653363Z",
     "iopub.status.idle": "2025-04-15T06:49:58.692952Z",
     "shell.execute_reply": "2025-04-15T06:49:58.692006Z",
     "shell.execute_reply.started": "2025-04-15T06:45:20.654375Z"
    },
    "trusted": true
   },
   "outputs": [
    {
     "name": "stderr",
     "output_type": "stream",
     "text": [
      "Stored: 36346: : 2710806it [04:38, 9750.27it/s]                            "
     ]
    },
    {
     "name": "stdout",
     "output_type": "stream",
     "text": [
      "\n",
      "✅ English records written: 36346\n",
      "📁 Saved cleaned data to: /kaggle/working/english_arxiv_full_cleaned_final6.csv\n"
     ]
    },
    {
     "name": "stderr",
     "output_type": "stream",
     "text": [
      "\n"
     ]
    }
   ],
   "source": [
    "with open(input_path, 'r') as infile, open(output_path, 'w', newline='', encoding='utf-8') as csvfile:\n",
    "    writer = None\n",
    "    fieldnames_written = False\n",
    "    english_count = 0\n",
    "\n",
    "    progress = tqdm(infile, total=total_lines, desc=f\"Stored: {english_count}\")\n",
    "\n",
    "    for line in progress:\n",
    "        try:\n",
    "            record = json.loads(line)\n",
    "            text = f\"{record.get('title', '')} {record.get('abstract', '')}\".strip()\n",
    "    \n",
    "            # Get version info FIRST to construct the PDF filename\n",
    "            latest_version, latest_created = extract_latest_version_info(record.get(\"versions\", []))\n",
    "            pdf_filename = f\"{record['id']}{latest_version}.pdf\"\n",
    "    \n",
    "            # Only keep if the file is in your allowed PDF names\n",
    "            if pdf_filename not in pdf_filenames_set:\n",
    "                continue\n",
    "    \n",
    "            # Now check if it's English\n",
    "            if not text or not is_english(text):\n",
    "                continue\n",
    "    \n",
    "            # ✅ Process the matching record\n",
    "            record[\"latest_version\"] = latest_version\n",
    "            record[\"latest_created\"] = latest_created\n",
    "            record[\"pdf_filename\"] = pdf_filename\n",
    "            record.pop(\"versions\", None)\n",
    "    \n",
    "            combined_authors = flatten_authors(record.get(\"authors_parsed\", []))\n",
    "            record[\"authors_combined\"] = combined_authors\n",
    "            record.pop(\"authors_parsed\", None)\n",
    "    \n",
    "            if writer is None:\n",
    "                fieldnames = list(record.keys())\n",
    "                writer = csv.DictWriter(csvfile, fieldnames=fieldnames)\n",
    "                writer.writeheader()\n",
    "                fieldnames_written = True\n",
    "    \n",
    "            writer.writerow(record)\n",
    "            english_count += 1\n",
    "\n",
    "            # 🔄 Update progress bar description\n",
    "            progress.set_description(f\"Stored: {english_count}\")\n",
    "\n",
    "        except (json.JSONDecodeError, UnicodeEncodeError, KeyError):\n",
    "            continue  # Skip broken lines or missing keys\n",
    "\n",
    "print(f\"\\n✅ English records written: {english_count}\")\n",
    "print(f\"📁 Saved cleaned data to: {output_path}\")\n"
   ]
  },
  {
   "cell_type": "code",
   "execution_count": null,
   "metadata": {
    "trusted": true
   },
   "outputs": [],
   "source": []
  }
 ],
 "metadata": {
  "kaggle": {
   "accelerator": "none",
   "dataSources": [
    {
     "datasetId": 612177,
     "sourceId": 11382540,
     "sourceType": "datasetVersion"
    },
    {
     "datasetId": 7148175,
     "sourceId": 11412970,
     "sourceType": "datasetVersion"
    }
   ],
   "dockerImageVersionId": 31011,
   "isGpuEnabled": false,
   "isInternetEnabled": true,
   "language": "python",
   "sourceType": "notebook"
  },
  "kernelspec": {
   "display_name": "Python 3",
   "language": "python",
   "name": "python3"
  },
  "language_info": {
   "codemirror_mode": {
    "name": "ipython",
    "version": 3
   },
   "file_extension": ".py",
   "mimetype": "text/x-python",
   "name": "python",
   "nbconvert_exporter": "python",
   "pygments_lexer": "ipython3",
   "version": "3.9.6"
  }
 },
 "nbformat": 4,
 "nbformat_minor": 4
}
