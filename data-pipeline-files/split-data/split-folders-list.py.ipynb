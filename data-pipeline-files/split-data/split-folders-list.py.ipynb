{
 "cells": [
  {
   "cell_type": "code",
   "execution_count": 6,
   "metadata": {},
   "outputs": [],
   "source": [
    "from pathlib import Path"
   ]
  },
  {
   "cell_type": "code",
   "execution_count": 7,
   "metadata": {},
   "outputs": [],
   "source": [
    "INPUT_FILE    = \"./all_folders_list.txt\"\n",
    "OFFLINE_COUNT = 53\n",
    "RETRAIN_COUNT = 3\n",
    "STAGING_COUNT = 3\n",
    "YEAR           = '13'\n",
    "MONTH          = '04'"
   ]
  },
  {
   "cell_type": "code",
   "execution_count": 8,
   "metadata": {},
   "outputs": [],
   "source": [
    "file_path = Path(INPUT_FILE)\n",
    "if not file_path.exists():\n",
    "    print(f\"Error: input file '{INPUT_FILE}' not found.\", file=sys.stderr)\n",
    "    sys.exit(1)"
   ]
  },
  {
   "cell_type": "code",
   "execution_count": 9,
   "metadata": {},
   "outputs": [
    {
     "name": "stdout",
     "output_type": "stream",
     "text": [
      "Read 218 non-blank lines from './all_folders_list.txt'\n"
     ]
    }
   ],
   "source": [
    "lines = [line.strip() for line in file_path.read_text().splitlines() if line.strip()]\n",
    "print(f\"Read {len(lines)} non-blank lines from '{INPUT_FILE}'\")"
   ]
  },
  {
   "cell_type": "code",
   "execution_count": 10,
   "metadata": {},
   "outputs": [],
   "source": [
    "offline = lines[:OFFLINE_COUNT]\n",
    "retrain = lines[OFFLINE_COUNT:OFFLINE_COUNT + RETRAIN_COUNT]\n",
    "staging = lines[OFFLINE_COUNT + RETRAIN_COUNT : OFFLINE_COUNT + RETRAIN_COUNT + STAGING_COUNT]\n"
   ]
  },
  {
   "cell_type": "code",
   "execution_count": 11,
   "metadata": {},
   "outputs": [
    {
     "name": "stdout",
     "output_type": "stream",
     "text": [
      "['gs://arxiv-dataset/arxiv/arxiv/pdf/0704/', 'gs://arxiv-dataset/arxiv/arxiv/pdf/0705/', 'gs://arxiv-dataset/arxiv/arxiv/pdf/0706/', 'gs://arxiv-dataset/arxiv/arxiv/pdf/0707/', 'gs://arxiv-dataset/arxiv/arxiv/pdf/0708/', 'gs://arxiv-dataset/arxiv/arxiv/pdf/0709/', 'gs://arxiv-dataset/arxiv/arxiv/pdf/0710/', 'gs://arxiv-dataset/arxiv/arxiv/pdf/0711/', 'gs://arxiv-dataset/arxiv/arxiv/pdf/0712/', 'gs://arxiv-dataset/arxiv/arxiv/pdf/0801/', 'gs://arxiv-dataset/arxiv/arxiv/pdf/0802/', 'gs://arxiv-dataset/arxiv/arxiv/pdf/0803/', 'gs://arxiv-dataset/arxiv/arxiv/pdf/0804/', 'gs://arxiv-dataset/arxiv/arxiv/pdf/0805/', 'gs://arxiv-dataset/arxiv/arxiv/pdf/0806/', 'gs://arxiv-dataset/arxiv/arxiv/pdf/0807/', 'gs://arxiv-dataset/arxiv/arxiv/pdf/0808/', 'gs://arxiv-dataset/arxiv/arxiv/pdf/0809/', 'gs://arxiv-dataset/arxiv/arxiv/pdf/0810/', 'gs://arxiv-dataset/arxiv/arxiv/pdf/0811/', 'gs://arxiv-dataset/arxiv/arxiv/pdf/0812/', 'gs://arxiv-dataset/arxiv/arxiv/pdf/0901/', 'gs://arxiv-dataset/arxiv/arxiv/pdf/0902/', 'gs://arxiv-dataset/arxiv/arxiv/pdf/0903/', 'gs://arxiv-dataset/arxiv/arxiv/pdf/0904/', 'gs://arxiv-dataset/arxiv/arxiv/pdf/0905/', 'gs://arxiv-dataset/arxiv/arxiv/pdf/0906/', 'gs://arxiv-dataset/arxiv/arxiv/pdf/0907/', 'gs://arxiv-dataset/arxiv/arxiv/pdf/0908/', 'gs://arxiv-dataset/arxiv/arxiv/pdf/0909/', 'gs://arxiv-dataset/arxiv/arxiv/pdf/0910/', 'gs://arxiv-dataset/arxiv/arxiv/pdf/0911/', 'gs://arxiv-dataset/arxiv/arxiv/pdf/0912/', 'gs://arxiv-dataset/arxiv/arxiv/pdf/1001/', 'gs://arxiv-dataset/arxiv/arxiv/pdf/1002/', 'gs://arxiv-dataset/arxiv/arxiv/pdf/1003/', 'gs://arxiv-dataset/arxiv/arxiv/pdf/1004/', 'gs://arxiv-dataset/arxiv/arxiv/pdf/1005/', 'gs://arxiv-dataset/arxiv/arxiv/pdf/1006/', 'gs://arxiv-dataset/arxiv/arxiv/pdf/1007/', 'gs://arxiv-dataset/arxiv/arxiv/pdf/1008/', 'gs://arxiv-dataset/arxiv/arxiv/pdf/1009/', 'gs://arxiv-dataset/arxiv/arxiv/pdf/1010/', 'gs://arxiv-dataset/arxiv/arxiv/pdf/1011/', 'gs://arxiv-dataset/arxiv/arxiv/pdf/1012/', 'gs://arxiv-dataset/arxiv/arxiv/pdf/1101/', 'gs://arxiv-dataset/arxiv/arxiv/pdf/1102/', 'gs://arxiv-dataset/arxiv/arxiv/pdf/1103/', 'gs://arxiv-dataset/arxiv/arxiv/pdf/1104/', 'gs://arxiv-dataset/arxiv/arxiv/pdf/1105/', 'gs://arxiv-dataset/arxiv/arxiv/pdf/1106/', 'gs://arxiv-dataset/arxiv/arxiv/pdf/1107/', 'gs://arxiv-dataset/arxiv/arxiv/pdf/1108/']\n"
     ]
    }
   ],
   "source": [
    "print(offline)"
   ]
  },
  {
   "cell_type": "code",
   "execution_count": 13,
   "metadata": {},
   "outputs": [],
   "source": [
    "output_map = {\n",
    "    \"file_list.txt\":    offline,\n",
    "    \"retrain_list.txt\":    retrain,\n",
    "    \"staging_list.txt\":    staging,\n",
    "}"
   ]
  },
  {
   "cell_type": "code",
   "execution_count": 14,
   "metadata": {},
   "outputs": [
    {
     "name": "stdout",
     "output_type": "stream",
     "text": [
      "Wrote 53 lines to file_list.txt\n",
      "Wrote 3 lines to retrain_list.txt\n",
      "Wrote 3 lines to staging_list.txt\n"
     ]
    }
   ],
   "source": [
    "for filename, entries in output_map.items():\n",
    "        Path(filename).write_text(\"\\n\".join(entries))\n",
    "        print(f\"Wrote {len(entries)} lines to {filename}\")\n"
   ]
  },
  {
   "cell_type": "code",
   "execution_count": null,
   "metadata": {},
   "outputs": [],
   "source": []
  }
 ],
 "metadata": {
  "kernelspec": {
   "display_name": "mlflow-env",
   "language": "python",
   "name": "python3"
  },
  "language_info": {
   "codemirror_mode": {
    "name": "ipython",
    "version": 3
   },
   "file_extension": ".py",
   "mimetype": "text/x-python",
   "name": "python",
   "nbconvert_exporter": "python",
   "pygments_lexer": "ipython3",
   "version": "3.8.18"
  }
 },
 "nbformat": 4,
 "nbformat_minor": 2
}
