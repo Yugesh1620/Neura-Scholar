{
 "cells": [
  {
   "cell_type": "code",
   "execution_count": 1,
   "metadata": {},
   "outputs": [],
   "source": [
    "import json\n",
    "from langdetect import detect\n",
    "from langdetect.lang_detect_exception import LangDetectException"
   ]
  },
  {
   "cell_type": "code",
   "execution_count": 2,
   "metadata": {},
   "outputs": [
    {
     "name": "stdout",
     "output_type": "stream",
     "text": [
      "JSON Structure (1st record):\n",
      "- id: str\n",
      "- submitter: str\n",
      "- authors: str\n",
      "- title: str\n",
      "- comments: str\n",
      "- journal-ref: str\n",
      "- doi: str\n",
      "- report-no: str\n",
      "- categories: str\n",
      "- license: NoneType\n",
      "- abstract: str\n",
      "- versions: \n",
      "  - List[2] →\n",
      "    - version: str\n",
      "    - created: str\n",
      "- update_date: str\n",
      "- authors_parsed: \n",
      "  - List[4] →\n",
      "    - List[3] →\n",
      "      - str\n"
     ]
    }
   ],
   "source": [
    "file_path = '/Users/riyagarg/mlops-project/arxiv-metadata-oai-snapshot.json'\n",
    "\n",
    "# Read JSON Lines (NDJSON)\n",
    "data = []\n",
    "with open(file_path, 'r') as f:\n",
    "    for line in f:\n",
    "        data.append(json.loads(line))\n",
    "\n",
    "# Preview structure of the first record\n",
    "def print_structure(obj, indent=0):\n",
    "    prefix = \"  \" * indent\n",
    "    if isinstance(obj, dict):\n",
    "        for key, value in obj.items():\n",
    "            print(f\"{prefix}- {key}:\", end=\" \")\n",
    "            if isinstance(value, (dict, list)):\n",
    "                print()\n",
    "                print_structure(value, indent + 1)\n",
    "            else:\n",
    "                print(f\"{type(value).__name__}\")\n",
    "    elif isinstance(obj, list):\n",
    "        print(f\"{prefix}- List[{len(obj)}] →\")\n",
    "        if obj:\n",
    "            print_structure(obj[0], indent + 1)\n",
    "    else:\n",
    "        print(f\"{prefix}- {type(obj).__name__}\")\n",
    "\n",
    "# Show structure of first JSON object\n",
    "print(\"JSON Structure (1st record):\")\n",
    "print_structure(data[0])\n"
   ]
  },
  {
   "cell_type": "code",
   "execution_count": 3,
   "metadata": {},
   "outputs": [],
   "source": [
    "def is_english(text):\n",
    "    try:\n",
    "        return detect(text) == 'en'\n",
    "    except LangDetectException:\n",
    "        return False"
   ]
  },
  {
   "cell_type": "code",
   "execution_count": 9,
   "metadata": {},
   "outputs": [
    {
     "name": "stdout",
     "output_type": "stream",
     "text": [
      "{'id': '0704.0001', 'submitter': 'Pavel Nadolsky', 'authors': \"C. Bal\\\\'azs, E. L. Berger, P. M. Nadolsky, C.-P. Yuan\", 'title': 'Calculation of prompt diphoton production cross sections at Tevatron and\\n  LHC energies', 'comments': '37 pages, 15 figures; published version', 'journal-ref': 'Phys.Rev.D76:013009,2007', 'doi': '10.1103/PhysRevD.76.013009', 'report-no': 'ANL-HEP-PR-07-12', 'categories': 'hep-ph', 'license': None, 'abstract': '  A fully differential calculation in perturbative quantum chromodynamics is\\npresented for the production of massive photon pairs at hadron colliders. All\\nnext-to-leading order perturbative contributions from quark-antiquark,\\ngluon-(anti)quark, and gluon-gluon subprocesses are included, as well as\\nall-orders resummation of initial-state gluon radiation valid at\\nnext-to-next-to-leading logarithmic accuracy. The region of phase space is\\nspecified in which the calculation is most reliable. Good agreement is\\ndemonstrated with data from the Fermilab Tevatron, and predictions are made for\\nmore detailed tests with CDF and DO data. Predictions are shown for\\ndistributions of diphoton pairs produced at the energy of the Large Hadron\\nCollider (LHC). Distributions of the diphoton pairs from the decay of a Higgs\\nboson are contrasted with those produced from QCD processes at the LHC, showing\\nthat enhanced sensitivity to the signal can be obtained with judicious\\nselection of events.\\n', 'versions': [{'version': 'v1', 'created': 'Mon, 2 Apr 2007 19:18:42 GMT'}, {'version': 'v2', 'created': 'Tue, 24 Jul 2007 20:10:27 GMT'}], 'update_date': '2008-11-26', 'authors_parsed': [['Balázs', 'C.', ''], ['Berger', 'E. L.', ''], ['Nadolsky', 'P. M.', ''], ['Yuan', 'C. -P.', '']]}\n",
      "{'id': '0704.0002', 'submitter': 'Louis Theran', 'authors': 'Ileana Streinu and Louis Theran', 'title': 'Sparsity-certifying Graph Decompositions', 'comments': 'To appear in Graphs and Combinatorics', 'journal-ref': None, 'doi': None, 'report-no': None, 'categories': 'math.CO cs.CG', 'license': 'http://arxiv.org/licenses/nonexclusive-distrib/1.0/', 'abstract': '  We describe a new algorithm, the $(k,\\\\ell)$-pebble game with colors, and use\\nit obtain a characterization of the family of $(k,\\\\ell)$-sparse graphs and\\nalgorithmic solutions to a family of problems concerning tree decompositions of\\ngraphs. Special instances of sparse graphs appear in rigidity theory and have\\nreceived increased attention in recent years. In particular, our colored\\npebbles generalize and strengthen the previous results of Lee and Streinu and\\ngive a new proof of the Tutte-Nash-Williams characterization of arboricity. We\\nalso present a new decomposition that certifies sparsity based on the\\n$(k,\\\\ell)$-pebble game with colors. Our work also exposes connections between\\npebble game algorithms and previous sparse graph algorithms by Gabow, Gabow and\\nWestermann and Hendrickson.\\n', 'versions': [{'version': 'v1', 'created': 'Sat, 31 Mar 2007 02:26:18 GMT'}, {'version': 'v2', 'created': 'Sat, 13 Dec 2008 17:26:00 GMT'}], 'update_date': '2008-12-13', 'authors_parsed': [['Streinu', 'Ileana', ''], ['Theran', 'Louis', '']]}\n",
      "{'id': '0704.0003', 'submitter': 'Hongjun Pan', 'authors': 'Hongjun Pan', 'title': 'The evolution of the Earth-Moon system based on the dark matter field\\n  fluid model', 'comments': '23 pages, 3 figures', 'journal-ref': None, 'doi': None, 'report-no': None, 'categories': 'physics.gen-ph', 'license': None, 'abstract': \"  The evolution of Earth-Moon system is described by the dark matter field\\nfluid model proposed in the Meeting of Division of Particle and Field 2004,\\nAmerican Physical Society. The current behavior of the Earth-Moon system agrees\\nwith this model very well and the general pattern of the evolution of the\\nMoon-Earth system described by this model agrees with geological and fossil\\nevidence. The closest distance of the Moon to Earth was about 259000 km at 4.5\\nbillion years ago, which is far beyond the Roche's limit. The result suggests\\nthat the tidal friction may not be the primary cause for the evolution of the\\nEarth-Moon system. The average dark matter field fluid constant derived from\\nEarth-Moon system data is 4.39 x 10^(-22) s^(-1)m^(-1). This model predicts\\nthat the Mars's rotation is also slowing with the angular acceleration rate\\nabout -4.38 x 10^(-22) rad s^(-2).\\n\", 'versions': [{'version': 'v1', 'created': 'Sun, 1 Apr 2007 20:46:54 GMT'}, {'version': 'v2', 'created': 'Sat, 8 Dec 2007 23:47:24 GMT'}, {'version': 'v3', 'created': 'Sun, 13 Jan 2008 00:36:28 GMT'}], 'update_date': '2008-01-13', 'authors_parsed': [['Pan', 'Hongjun', '']]}\n"
     ]
    }
   ],
   "source": [
    "for i, paper in enumerate(data[:3]):\n",
    "    print(paper)\n",
    "    # print(f\"\\nTitle {i+1}: {paper['title']}\")\n",
    "    # print(f\"Abstract: {paper['abstract'][:300]}...\")  # Truncated for readability\n"
   ]
  },
  {
   "cell_type": "code",
   "execution_count": 11,
   "metadata": {},
   "outputs": [
    {
     "name": "stdout",
     "output_type": "stream",
     "text": [
      "\n",
      "Title 1: Calculation of prompt diphoton production cross sections at Tevatron and\n",
      "  LHC energies\n",
      "Abstract:   A fully differential calculation in perturbative quantum chromodynamics is\n",
      "presented for the production of massive photon pairs at hadron colliders. All\n",
      "next-to-leading order perturbative contributions from quark-antiquark,\n",
      "gluon-(anti)quark, and gluon-gluon subprocesses are included, as well as\n",
      "a...\n",
      "\n",
      "Title 2: Sparsity-certifying Graph Decompositions\n",
      "Abstract:   We describe a new algorithm, the $(k,\\ell)$-pebble game with colors, and use\n",
      "it obtain a characterization of the family of $(k,\\ell)$-sparse graphs and\n",
      "algorithmic solutions to a family of problems concerning tree decompositions of\n",
      "graphs. Special instances of sparse graphs appear in rigidity theo...\n",
      "\n",
      "Title 3: The evolution of the Earth-Moon system based on the dark matter field\n",
      "  fluid model\n",
      "Abstract:   The evolution of Earth-Moon system is described by the dark matter field\n",
      "fluid model proposed in the Meeting of Division of Particle and Field 2004,\n",
      "American Physical Society. The current behavior of the Earth-Moon system agrees\n",
      "with this model very well and the general pattern of the evolution of...\n",
      "\n",
      "Title 4: A determinant of Stirling cycle numbers counts unlabeled acyclic\n",
      "  single-source automata\n",
      "Abstract:   We show that a determinant of Stirling cycle numbers counts unlabeled acyclic\n",
      "single-source automata. The proof involves a bijection from these automata to\n",
      "certain marked lattice paths and a sign-reversing involution to evaluate the\n",
      "determinant.\n",
      "...\n"
     ]
    }
   ],
   "source": [
    "for i, paper in enumerate(data[:4]):\n",
    "    print(f\"\\nTitle {i+1}: {paper['title']}\")\n",
    "    print(f\"Abstract: {paper['abstract'][:300]}...\")  # Truncated for readability"
   ]
  },
  {
   "cell_type": "code",
   "execution_count": 12,
   "metadata": {},
   "outputs": [
    {
     "name": "stdout",
     "output_type": "stream",
     "text": [
      "2710806\n"
     ]
    }
   ],
   "source": [
    "print(len(data))"
   ]
  },
  {
   "cell_type": "code",
   "execution_count": null,
   "metadata": {},
   "outputs": [],
   "source": []
  }
 ],
 "metadata": {
  "kernelspec": {
   "display_name": "Python 3",
   "language": "python",
   "name": "python3"
  },
  "language_info": {
   "codemirror_mode": {
    "name": "ipython",
    "version": 3
   },
   "file_extension": ".py",
   "mimetype": "text/x-python",
   "name": "python",
   "nbconvert_exporter": "python",
   "pygments_lexer": "ipython3",
   "version": "3.9.6"
  }
 },
 "nbformat": 4,
 "nbformat_minor": 4
}
