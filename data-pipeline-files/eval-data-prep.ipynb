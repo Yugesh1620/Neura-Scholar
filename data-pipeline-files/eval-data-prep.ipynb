{
 "cells": [
  {
   "cell_type": "code",
   "execution_count": null,
   "metadata": {},
   "outputs": [
    {
     "name": "stderr",
     "output_type": "stream",
     "text": [
      "Xet Storage is enabled for this repo, but the 'hf_xet' package is not installed. Falling back to regular HTTP download. For better performance, install the package with: `pip install huggingface_hub[hf_xet]` or `pip install hf_xet`\n"
     ]
    }
   ],
   "source": [
    "from transformers import AutoTokenizer, AutoModel\n",
    "import torch\n",
    "import psycopg2\n",
    "import numpy as np\n",
    "\n",
    "# Load embedding model\n",
    "model_name = \"sentence-transformers/all-MiniLM-L6-v2\"\n",
    "tokenizer = AutoTokenizer.from_pretrained(model_name)\n",
    "model = AutoModel.from_pretrained(model_name)\n",
    "\n",
    "def get_embedding(text):\n",
    "    inputs = tokenizer(text, return_tensors=\"pt\", truncation=True, padding=True)\n",
    "    with torch.no_grad():\n",
    "        output = model(**inputs)\n",
    "    embedding = output.last_hidden_state.mean(dim=1).squeeze().numpy()\n",
    "    return embedding\n",
    "\n",
    "# PostgreSQL connection\n",
    "conn = psycopg2.connect(\n",
    "    dbname=\"cleaned_meta_data_db\",\n",
    "    user=\"rg5073\",\n",
    "    password=\"rg5073pass\",\n",
    "    host=\"129.114.27.112\",  # or container IP\n",
    "    port=\"5432\"\n",
    ")\n",
    "cursor = conn.cursor()\n",
    "\n",
    "# Fetch chunks\n",
    "cursor.execute(\"SELECT paper_id, chunk_id, chunk_data FROM arxiv_chunks_backup;\")\n",
    "rows = cursor.fetchall()\n",
    "\n",
    "for paper_id, chunk_id, text in rows:\n",
    "    vector = get_embedding(text)\n",
    "    vector_str = list(map(float, vector))\n",
    "    cursor.execute(\n",
    "        \"UPDATE arxiv_chunks_backup SET chunk_embedding = %s WHERE paper_id = %s AND chunk_id = %s\",\n",
    "        (vector_str, paper_id, chunk_id)\n",
    "    )\n",
    "\n",
    "conn.commit()\n",
    "cursor.close()\n",
    "conn.close()\n"
   ]
  },
  {
   "cell_type": "code",
   "execution_count": 1,
   "metadata": {},
   "outputs": [
    {
     "name": "stderr",
     "output_type": "stream",
     "text": [
      "/Users/riyagarg/Library/Python/3.9/lib/python/site-packages/urllib3/__init__.py:35: NotOpenSSLWarning: urllib3 v2 only supports OpenSSL 1.1.1+, currently the 'ssl' module is compiled with 'LibreSSL 2.8.3'. See: https://github.com/urllib3/urllib3/issues/3020\n",
      "  warnings.warn(\n",
      "/Users/riyagarg/Library/Python/3.9/lib/python/site-packages/tqdm/auto.py:21: TqdmWarning: IProgress not found. Please update jupyter and ipywidgets. See https://ipywidgets.readthedocs.io/en/stable/user_install.html\n",
      "  from .autonotebook import tqdm as notebook_tqdm\n"
     ]
    }
   ],
   "source": [
    "from transformers import AutoTokenizer, AutoModel\n",
    "import torch\n",
    "import psycopg2\n",
    "import numpy as np\n",
    "from tqdm.auto import tqdm  "
   ]
  },
  {
   "cell_type": "code",
   "execution_count": 2,
   "metadata": {},
   "outputs": [],
   "source": [
    "model_name = \"sentence-transformers/all-MiniLM-L6-v2\"\n",
    "tokenizer   = AutoTokenizer.from_pretrained(model_name)\n",
    "model       = AutoModel.from_pretrained(model_name)\n",
    "\n",
    "def get_embedding(text: str) -> np.ndarray:\n",
    "    inputs = tokenizer(text, return_tensors=\"pt\", truncation=True, padding=True)\n",
    "    with torch.no_grad():\n",
    "        output = model(**inputs)\n",
    "    return output.last_hidden_state.mean(dim=1).squeeze().cpu().numpy()"
   ]
  },
  {
   "cell_type": "code",
   "execution_count": 30,
   "metadata": {},
   "outputs": [],
   "source": [
    "conn = psycopg2.connect(\n",
    "    dbname=\"cleaned_meta_data_db\",\n",
    "    user=\"rg5073\",\n",
    "    password=\"rg5073pass\",\n",
    "    host=\"129.114.27.112\",\n",
    "    port=\"5432\"\n",
    ")\n",
    "cursor = conn.cursor()\n"
   ]
  },
  {
   "cell_type": "code",
   "execution_count": 4,
   "metadata": {},
   "outputs": [],
   "source": [
    "cursor.execute(\"SELECT COUNT(*) FROM arxiv_chunks_eval_4;\")\n",
    "total_rows = cursor.fetchone()[0]"
   ]
  },
  {
   "cell_type": "code",
   "execution_count": 5,
   "metadata": {},
   "outputs": [
    {
     "name": "stdout",
     "output_type": "stream",
     "text": [
      "Defaulting to user installation because normal site-packages is not writeable\n",
      "Requirement already satisfied: pgvector in /Users/riyagarg/Library/Python/3.9/lib/python/site-packages (0.4.1)\n",
      "Requirement already satisfied: psycopg2-binary in /Users/riyagarg/Library/Python/3.9/lib/python/site-packages (2.9.10)\n",
      "Requirement already satisfied: numpy in /Users/riyagarg/Library/Python/3.9/lib/python/site-packages (from pgvector) (1.26.4)\n",
      "\n",
      "\u001b[1m[\u001b[0m\u001b[34;49mnotice\u001b[0m\u001b[1;39;49m]\u001b[0m\u001b[39;49m A new release of pip is available: \u001b[0m\u001b[31;49m25.0.1\u001b[0m\u001b[39;49m -> \u001b[0m\u001b[32;49m25.1.1\u001b[0m\n",
      "\u001b[1m[\u001b[0m\u001b[34;49mnotice\u001b[0m\u001b[1;39;49m]\u001b[0m\u001b[39;49m To update, run: \u001b[0m\u001b[32;49m/Library/Developer/CommandLineTools/usr/bin/python3 -m pip install --upgrade pip\u001b[0m\n",
      "Note: you may need to restart the kernel to use updated packages.\n"
     ]
    }
   ],
   "source": [
    "pip install pgvector psycopg2-binary\n"
   ]
  },
  {
   "cell_type": "code",
   "execution_count": 6,
   "metadata": {},
   "outputs": [
    {
     "ename": "ImportError",
     "evalue": "cannot import name 'Vector' from 'pgvector.psycopg2' (/Users/riyagarg/Library/Python/3.9/lib/python/site-packages/pgvector/psycopg2/__init__.py)",
     "output_type": "error",
     "traceback": [
      "\u001b[0;31m---------------------------------------------------------------------------\u001b[0m",
      "\u001b[0;31mImportError\u001b[0m                               Traceback (most recent call last)",
      "Cell \u001b[0;32mIn[6], line 1\u001b[0m\n\u001b[0;32m----> 1\u001b[0m \u001b[38;5;28;01mfrom\u001b[39;00m \u001b[38;5;21;01mpgvector\u001b[39;00m\u001b[38;5;21;01m.\u001b[39;00m\u001b[38;5;21;01mpsycopg2\u001b[39;00m \u001b[38;5;28;01mimport\u001b[39;00m register_vector, Vector \n",
      "\u001b[0;31mImportError\u001b[0m: cannot import name 'Vector' from 'pgvector.psycopg2' (/Users/riyagarg/Library/Python/3.9/lib/python/site-packages/pgvector/psycopg2/__init__.py)"
     ]
    }
   ],
   "source": [
    "from pgvector.psycopg2 import register_vector, Vector "
   ]
  },
  {
   "cell_type": "code",
   "execution_count": null,
   "metadata": {},
   "outputs": [
    {
     "name": "stderr",
     "output_type": "stream",
     "text": [
      "Embedding:   0%|          | 0/52554 [00:00<?, ?chunk/s]"
     ]
    }
   ],
   "source": [
    "from transformers import AutoTokenizer, AutoModel\n",
    "import torch\n",
    "import psycopg2\n",
    "from pgvector.psycopg2 import register_vector\n",
    "from tqdm.auto import tqdm\n",
    "import numpy as np\n",
    "\n",
    "# 1. Model setup\n",
    "model_name = \"sentence-transformers/all-MiniLM-L6-v2\"\n",
    "tokenizer  = AutoTokenizer.from_pretrained(model_name)\n",
    "model      = AutoModel.from_pretrained(model_name)\n",
    "\n",
    "def get_embedding(text: str) -> np.ndarray:\n",
    "    inputs = tokenizer(text, return_tensors=\"pt\", truncation=True, padding=True)\n",
    "    with torch.no_grad():\n",
    "        emb = model(**inputs).last_hidden_state.mean(dim=1).squeeze()\n",
    "    return emb.cpu().numpy().astype(np.float32)  # ensure float32\n",
    "\n",
    "# 2. Connect & register pgvector\n",
    "conn = psycopg2.connect(\n",
    "    dbname=\"cleaned_meta_data_db\",\n",
    "    user=\"rg5073\",\n",
    "    password=\"rg5073pass\",\n",
    "    host=\"129.114.27.112\",\n",
    "    port=\"5432\",\n",
    ")\n",
    "register_vector(conn)\n",
    "cur = conn.cursor()\n",
    "\n",
    "# 3. Load all rows into memory once\n",
    "cur.execute(\"SELECT paper_id, chunk_id, chunk_data FROM arxiv_chunks_eval_4;\")\n",
    "rows = cur.fetchall()         # now rows is a Python list\n",
    "\n",
    "# 4. Iterate with tqdm\n",
    "for paper_id, chunk_id, text in tqdm(rows, desc=\"Embedding\", unit=\"chunk\"):\n",
    "    vec = get_embedding(text)\n",
    "    cur.execute(\n",
    "        \"\"\"\n",
    "        UPDATE arxiv_chunks_eval_4\n",
    "           SET chunk_embedding = %s\n",
    "         WHERE paper_id = %s AND chunk_id = %s\n",
    "        \"\"\",\n",
    "        (vec, paper_id, chunk_id)\n",
    "    )\n",
    "\n",
    "conn.commit()\n",
    "cur.close()\n",
    "conn.close()\n"
   ]
  },
  {
   "cell_type": "code",
   "execution_count": 1,
   "metadata": {},
   "outputs": [
    {
     "name": "stderr",
     "output_type": "stream",
     "text": [
      "/Users/riyagarg/Library/Python/3.9/lib/python/site-packages/urllib3/__init__.py:35: NotOpenSSLWarning: urllib3 v2 only supports OpenSSL 1.1.1+, currently the 'ssl' module is compiled with 'LibreSSL 2.8.3'. See: https://github.com/urllib3/urllib3/issues/3020\n",
      "  warnings.warn(\n",
      "/Users/riyagarg/Library/Python/3.9/lib/python/site-packages/tqdm/auto.py:21: TqdmWarning: IProgress not found. Please update jupyter and ipywidgets. See https://ipywidgets.readthedocs.io/en/stable/user_install.html\n",
      "  from .autonotebook import tqdm as notebook_tqdm\n"
     ]
    }
   ],
   "source": [
    "from transformers import AutoTokenizer, AutoModel\n",
    "import torch\n",
    "import psycopg2\n",
    "from pgvector.psycopg2 import register_vector\n",
    "from tqdm.auto import tqdm\n",
    "import numpy as np"
   ]
  },
  {
   "cell_type": "code",
   "execution_count": 2,
   "metadata": {},
   "outputs": [],
   "source": [
    "model_name = \"sentence-transformers/all-MiniLM-L6-v2\"\n",
    "tokenizer  = AutoTokenizer.from_pretrained(model_name)\n",
    "model      = AutoModel.from_pretrained(model_name)\n",
    "\n",
    "def get_embedding(text: str) -> np.ndarray:\n",
    "    inputs = tokenizer(text, return_tensors=\"pt\", truncation=True, padding=True)\n",
    "    with torch.no_grad():\n",
    "        emb = model(**inputs).last_hidden_state.mean(dim=1).squeeze()\n",
    "    return emb.cpu().numpy().astype(np.float32)  # ensure float32"
   ]
  },
  {
   "cell_type": "code",
   "execution_count": 3,
   "metadata": {},
   "outputs": [],
   "source": [
    "conn = psycopg2.connect(\n",
    "    dbname=\"cleaned_meta_data_db\",\n",
    "    user=\"rg5073\",\n",
    "    password=\"rg5073pass\",\n",
    "    host=\"129.114.27.112\",\n",
    "    port=\"5432\",\n",
    ")\n",
    "register_vector(conn)\n",
    "cur = conn.cursor()"
   ]
  },
  {
   "cell_type": "code",
   "execution_count": 4,
   "metadata": {},
   "outputs": [],
   "source": [
    "cur.execute(\"SELECT paper_id, chunk_id, chunk_data FROM arxiv_chunks_eval_4;\")\n",
    "rows = cur.fetchall()   "
   ]
  },
  {
   "cell_type": "code",
   "execution_count": 5,
   "metadata": {},
   "outputs": [
    {
     "name": "stdout",
     "output_type": "stream",
     "text": [
      "('0704.2066v1', '0704.2066v1_1', 'arXiv 0704.2066v1 quant ph 17 Apr 2007 Lower bounds for communication capacities of two qudit unitary operations Dominic W. Berry Centre for Quantum Computer Technology, Macquarie University, Sydney, NSW 2109, Australia and Department of Physics, The University of Queensland, St. Lucia, Queensland 4072, Australia Dated December 8, 2013 We show that entangling capacities based on the Jamio lkowski isomorphism may be used to place lower bounds on the communication capacities of arbitrary bipartite unitaries. Therefore, for these definitions, the relations which have been previously shown for two qubit unitaries also hold for arbitrary dimensions. These results are closely related to the theory of the entanglement assisted capacity of channels. We also present more general methods for producing ensembles for communication from initial states for entanglement creation. PACS numbers 03.67.Mn, 03.67.Hk I. INTRODUCTION In quantum information processing, one of the most important tasks is to perform operations between dif ferent subsystems. It is therefore important to quantify what resources are required for implementing these op erations , and conversely the resources that these operations are capable of creating . In the very simple cases of SWAP and CNOT operations, many of the capacities are equal, or related by integer ratios . For more general bipartite unitary operations, a number of relations may be shown , and further relations may be shown for two qubit unitaries . In the case of two qudit multi level systems, it has been shown that many symmetries and inequalities do not hold . One relation that holds for all bipartite unitaries is that if they create entanglement then they can also per form classical communication . The method used in Ref. is somewhat indirect, and only gives a small lower bound on the communication that can be achieved. Here we give a more useful lower bound, which demon strates that a significant amount of communication may be achieved. In the case of two qubit unitaries, the communication that can be achieved in each direction is at least as large as the entanglement that can be created . The derivation used in Refs. does not apply to the more general case of two qudit unitaries, and a coun terexample for the two qudit case is given in Ref. . In Ref. it was shown that, in the restricted case of controlled unitary operations, the entanglement ca pacity again gives a lower bound on the communication capacity. Here we show here that it is possible to derive a similar inequality for general two qudit unitaries pro vided we use an alternative definition of the entangling capacity. This paper proceeds as follows. The definitions for the entangling and Holevo capacities are presented in Sec. II. Electronic address dberrya aics.mq.edu.au In Sec. III the lower bounds on the Holevo capacities in terms of the entangling capacities are shown. The rela tion between these results and those for quantum chan nels is discussed in Sec. IV. In Sec. V we give further generalisations of these results, and discuss the conse quences of the results in Ref. . Conclusions are given in Sec. VI. II. DEFINITIONS We subdivide the system into two subsystems, HA and HB, that are the subsystems in the possession of Alice and Bob, respectively. We further subdivide these sub systems as , . The subsystems labelled anc are the ancillas, and those labelled U are the subsystems that the unitary opera tion U acts upon. A. Entangling capacities There are two main definitions of the entangling ca pacity of a unitary operation that have been presented in preceding work EU sup A HA, B HB E U A B EU sup AB HA HB E U AB E AB . The quantity E is the entropy of entanglement E S TrA , where S Tr log . Throughout we employ logarithms to base 2, so the en tanglement is expressed in units of ebits. The capacity EU corresponds')\n"
     ]
    }
   ],
   "source": [
    "print(rows[0])"
   ]
  },
  {
   "cell_type": "code",
   "execution_count": 10,
   "metadata": {},
   "outputs": [
    {
     "name": "stderr",
     "output_type": "stream",
     "text": [
      "Embedding:   0%|          | 1/52554 [00:00<2:03:09,  7.11chunk/s]"
     ]
    },
    {
     "name": "stdout",
     "output_type": "stream",
     "text": [
      "text: arXiv 0704.2066v1 quant ph 17 Apr 2007 Lower bounds for communication capacities of two qudit unitary operations Dominic W. Berry Centre for Quantum Computer Technology, Macquarie University, Sydney, NSW 2109, Australia and Department of Physics, The University of Queensland, St. Lucia, Queensland 4072, Australia Dated December 8, 2013 We show that entangling capacities based on the Jamio lkowski isomorphism may be used to place lower bounds on the communication capacities of arbitrary bipartite unitaries. Therefore, for these definitions, the relations which have been previously shown for two qubit unitaries also hold for arbitrary dimensions. These results are closely related to the theory of the entanglement assisted capacity of channels. We also present more general methods for producing ensembles for communication from initial states for entanglement creation. PACS numbers 03.67.Mn, 03.67.Hk I. INTRODUCTION In quantum information processing, one of the most important tasks is to perform operations between dif ferent subsystems. It is therefore important to quantify what resources are required for implementing these op erations , and conversely the resources that these operations are capable of creating . In the very simple cases of SWAP and CNOT operations, many of the capacities are equal, or related by integer ratios . For more general bipartite unitary operations, a number of relations may be shown , and further relations may be shown for two qubit unitaries . In the case of two qudit multi level systems, it has been shown that many symmetries and inequalities do not hold . One relation that holds for all bipartite unitaries is that if they create entanglement then they can also per form classical communication . The method used in Ref. is somewhat indirect, and only gives a small lower bound on the communication that can be achieved. Here we give a more useful lower bound, which demon strates that a significant amount of communication may be achieved. In the case of two qubit unitaries, the communication that can be achieved in each direction is at least as large as the entanglement that can be created . The derivation used in Refs. does not apply to the more general case of two qudit unitaries, and a coun terexample for the two qudit case is given in Ref. . In Ref. it was shown that, in the restricted case of controlled unitary operations, the entanglement ca pacity again gives a lower bound on the communication capacity. Here we show here that it is possible to derive a similar inequality for general two qudit unitaries pro vided we use an alternative definition of the entangling capacity. This paper proceeds as follows. The definitions for the entangling and Holevo capacities are presented in Sec. II. Electronic address dberrya aics.mq.edu.au In Sec. III the lower bounds on the Holevo capacities in terms of the entangling capacities are shown. The rela tion between these results and those for quantum chan nels is discussed in Sec. IV. In Sec. V we give further generalisations of these results, and discuss the conse quences of the results in Ref. . Conclusions are given in Sec. VI. II. DEFINITIONS We subdivide the system into two subsystems, HA and HB, that are the subsystems in the possession of Alice and Bob, respectively. We further subdivide these sub systems as , . The subsystems labelled anc are the ancillas, and those labelled U are the subsystems that the unitary opera tion U acts upon. A. Entangling capacities There are two main definitions of the entangling ca pacity of a unitary operation that have been presented in preceding work EU sup A HA, B HB E U A B EU sup AB HA HB E U AB E AB . The quantity E is the entropy of entanglement E S TrA , where S Tr log . Throughout we employ logarithms to base 2, so the en tanglement is expressed in units of ebits. The capacity EU corresponds\n",
      "vec: [-0.12949854135513306, -0.08636994659900665, -0.1036594808101654, -0.09622351825237274, -0.1458926796913147, 0.01596813090145588, 0.047675374895334244, -0.06960316747426987, 0.06186061352491379, -0.09771202504634857, -0.13085030019283295, -0.041074953973293304, 0.14985418319702148, 0.007570394314825535, -0.0006446279585361481, 0.054112404584884644, 0.13774295151233673, 0.02965589240193367, -0.2614155113697052, 0.06614471971988678, 0.10666757822036743, -0.06515264511108398, 0.03367329761385918, 0.03641171753406525, 0.06545694172382355, -0.20757941901683807, -0.006718824617564678, -0.11573600769042969, -0.05538482964038849, 0.011856865137815475, -0.07658843696117401, 0.08194425702095032, 0.12402303516864777, -0.019766591489315033, -0.015235120430588722, 0.02052854374051094, 0.18175363540649414, -0.013694103807210922, 0.12337788939476013, 0.026570379734039307, -0.009030090644955635, 0.15494194626808167, -0.12489664554595947, 0.044551849365234375, -0.01799141801893711, 0.07945108413696289, 0.07255397737026215, 0.03808477893471718, -0.16687040030956268, -0.20314309000968933, -0.0007171789184212685, 0.20792922377586365, 0.045709557831287384, 0.15061980485916138, 0.011557432822883129, -0.15956822037696838, 0.041256025433540344, 0.0857376977801323, -0.12161092460155487, -0.028879910707473755, -0.06894001364707947, 0.020039480179548264, 0.00038932572351768613, -0.14017680287361145, 0.009338006377220154, -0.005541516467928886, -0.08721597492694855, 0.05511520057916641, -0.13542896509170532, 0.13547348976135254, -0.10138574242591858, -0.14377790689468384, -0.22690999507904053, 0.014459215104579926, 0.08215706050395966, -0.006068419199436903, 0.15241795778274536, 0.11052529513835907, 0.04515618458390236, -0.1099669337272644, 0.0109095498919487, 0.0364215262234211, -0.046380311250686646, -0.06190470606088638, 0.1181461364030838, -0.06136232614517212, -0.12287703156471252, 0.022381555289030075, 0.10151147842407227, -0.08576125651597977, -0.07933131605386734, -0.036337967962026596, 0.017632190138101578, 0.009641051292419434, 0.17806825041770935, -0.133327916264534, -0.021204445511102676, 0.09544198960065842, 0.010519636794924736, 0.025099577382206917, 0.15014339983463287, -0.10039893537759781, 0.011305239982903004, -0.07746745645999908, 0.07961307466030121, 0.06842121481895447, 0.08882132172584534, 0.050788555294275284, 0.005467238370329142, -0.03768150135874748, 0.038020096719264984, -0.005721693858504295, 0.016675684601068497, -0.01509830728173256, -0.07315738499164581, 0.06683801859617233, 0.07805319130420685, 0.1682281643152237, 0.06855589896440506, -0.07415521144866943, 0.06558675318956375, 0.007941029965877533, 0.05764283984899521, 0.10628370940685272, 0.04883604869246483, -0.02754836529493332, -0.16513022780418396, 1.4851709907067265e-32, 0.041396163403987885, 0.042469896376132965, 0.03802565112709999, 0.12205791473388672, 0.05375763028860092, 0.1176009252667427, 0.05175452679395676, -0.11952441930770874, 0.029451429843902588, -0.01599024049937725, -0.06313364952802658, 0.16809692978858948, 0.027206629514694214, -0.08933386206626892, 0.10765314102172852, 0.004643633496016264, -0.10820253193378448, 0.009707573801279068, 0.1254049688577652, -0.10597607493400574, 0.0806322991847992, 0.032725989818573, -0.2024286389350891, 0.11122647672891617, 0.040962569415569305, -0.15644106268882751, 0.05784749239683151, -0.1482715755701065, -0.16827456653118134, 0.03064553439617157, -0.14941322803497314, 0.08516555279493332, 0.045501675456762314, -0.0517219603061676, -0.07252737879753113, -0.14011196792125702, 0.021257229149341583, -0.04180644452571869, -0.08608715236186981, -0.16741487383842468, 0.016378749161958694, -0.013218413107097149, 0.028110027313232422, -0.13794443011283875, -0.01206735335290432, -0.18073007464408875, 0.04030081629753113, 0.120364248752594, 0.04522387683391571, -0.06007774919271469, 0.09498265385627747, 0.025026977062225342, -0.0740288645029068, -0.07052220404148102, 0.11183097213506699, -0.03633144497871399, 0.0609789714217186, 0.04918856546282768, 0.01108558103442192, 0.21587501466274261, -0.2010526806116104, 0.05613892525434494, 0.041709575802087784, -0.03676946833729744, -0.04638335853815079, 0.03211751580238342, -0.09307920932769775, -0.07893995195627213, 0.1008913666009903, 0.02935769408941269, -0.11723469197750092, -0.015719767659902573, 0.10783559083938599, -0.0367366299033165, 0.1004444882273674, -0.10986602306365967, 0.1394178569316864, -0.1768924593925476, -0.08717572689056396, 0.012753933668136597, -0.1036272794008255, -0.06383830308914185, -0.07431504130363464, -0.002490739803761244, -0.042671967297792435, -0.12210577726364136, 0.02601785957813263, -0.01691557466983795, -0.08295626938343048, 0.01666397415101528, -0.03743138909339905, -0.04282887652516365, 0.029479531571269035, 0.06290509551763535, -0.053757503628730774, -1.2889086906519112e-32, -0.0387670174241066, -0.05157247185707092, -0.08844763040542603, -0.008176208473742008, -0.11736230552196503, -0.046625640243291855, 0.06612757593393326, -0.1380728930234909, -0.04055918753147125, -0.1369990110397339, -0.08269437402486801, 0.05559953302145004, 0.09387976676225662, 0.10768865048885345, 0.012742206454277039, 0.10506698489189148, 0.09408430755138397, 0.016490792855620384, 0.07932685315608978, 0.019657917320728302, 0.01711684837937355, 0.01323358342051506, 0.04762629419565201, -0.02592439576983452, -0.12022681534290314, 0.1134507954120636, 0.01760878413915634, 0.1422048658132553, 0.058560699224472046, -0.0286558885127306, -0.012170338071882725, -0.22279897332191467, -0.21429996192455292, 0.08465024828910828, -0.049425557255744934, -0.13258978724479675, 0.10266362130641937, 0.03213110193610191, -0.15100574493408203, 0.055545199662446976, 0.05144601687788963, -0.0941123515367508, 0.017064087092876434, 0.11988115310668945, 0.04327421262860298, -0.05142317712306976, -0.012773606926202774, -0.03988274931907654, -0.15951204299926758, -0.01255117915570736, 0.10070556402206421, -0.012734692543745041, 0.02331378683447838, 0.13063538074493408, -0.13157255947589874, 0.03484490141272545, -0.004618730396032333, 0.12510204315185547, 0.18159392476081848, 0.04737170785665512, 0.05350605398416519, 0.08076199889183044, -0.10379448533058167, 0.13289478421211243, 0.18344825506210327, -0.05026780068874359, -0.03719491511583328, -0.008907174691557884, 0.023425975814461708, 0.06714931130409241, 0.012686165049672127, -0.11633861809968948, 0.1436184048652649, -0.013300543650984764, 0.08973716199398041, 0.1972236931324005, 0.08689683675765991, -0.12294008582830429, -0.05435808748006821, 0.061112888157367706, -0.12179197371006012, 0.05761495605111122, 0.032108042389154434, 0.009532511234283447, -0.09509752690792084, 0.01871987245976925, 0.1028362363576889, 0.11429572850465775, 0.051473893225193024, -0.12309467792510986, -0.09380641579627991, -0.09545421600341797, 0.04696651175618172, 0.029977286234498024, 0.04993145167827606, -9.908087861276726e-08, 0.05060197412967682, -0.07279174029827118, -0.08507342636585236, -0.08426140248775482, 0.038243405520915985, -0.11570820212364197, -0.03661501780152321, 0.1536538302898407, -0.060863345861434937, 0.11370554566383362, -0.003050698898732662, 0.09326279908418655, -0.1063021644949913, 0.022368157282471657, 0.04987902194261551, 0.09762385487556458, -0.0286413487046957, -0.20641089975833893, 0.029738202691078186, -0.07397280633449554, 0.07786811143159866, -0.01985178329050541, 0.044088058173656464, 0.11500333249568939, -0.14676767587661743, -0.03459510579705238, 0.002476013731211424, -0.0062225591391325, -0.010379616171121597, 0.12182432413101196, 0.014346569776535034, -0.041917502880096436, 0.17901040613651276, 0.11560716480016708, 0.010606043040752411, -0.08263589441776276, -0.1258014738559723, -0.017812080681324005, 0.019874654710292816, 0.13241180777549744, 0.03127989172935486, -0.018334519118070602, -0.018970943987369537, 0.04777127876877785, 0.24191944301128387, 0.045183874666690826, -0.09545696526765823, 0.04582340642809868, 0.07805077731609344, 0.07630360126495361, -0.023686755448579788, 0.09958238154649734, 0.08377528190612793, 0.010371828451752663, -0.08560211956501007, 0.03406310826539993, -0.03169485554099083, -0.08405277132987976, 0.1748901605606079, 0.036294519901275635, -0.03523771092295647, 0.15224722027778625, -0.07654720544815063, 0.0462769940495491] 0704.2066v1 0704.2066v1_1\n",
      "text: to the maximum entanglement that may be achieved starting with states that are not entangled between HA and HB, but may be entangled with ancil las. The second capacity, EU, is the maximal increase in entanglement. The capacity EU may also be re lated to the average entanglement which may be created asymptotically . 2 10 6 10 5 10 4 10 3 10 2 10 1 10 0 10 0 10 1 10 2 10 3 10 4 10 5 EU EU FIG. 1 The ratio of EU to E U for the operation U exp i z z . We may add to these definitions E U E U A B , E U max U0 E UU0 E U0 . where is the maximally entangled state P j jj and U0 is a unitary operation on HAU HBU . The definition of E U is equivalent to that of EU, except we have re stricted to states AB of the form U0 A B. We may take the maximum rather than the supremum, because this is a continuous function on a compact set. Clearly these two definitions are more restrictive than Eqs. and , so we have E U EU and E U EU. Also, because we may take U0 to be the identity, E U E U . As motivation for these definitions, for a range of two qubit unitaries the equalities E . In addition, U A B is the state that is equivalent to U under the Jamio lkowski isomorphism . That is, U A B may be used to implement U by postselecting on particular Bell measurement results. The probability of obtaining the correct measurement re sults is dAU dBU 2. It is possible for the entanglement to increase for one particular measurement result, so it is possible for E U to be strictly less than EU. However, the entanglement when averaged over all possible measurement results can not increase, so we must have E U dAU dBU 2 EU. We do not obtain a similar relationship between E U and EU, because if the initial target state has entanglement, the total entanglement can decrease by more than E U for some measurement results. In fact, the ratio of EU to E U is unbounded, as is easily seen for the case of the unitary U exp i z z see Fig. 1 . We also define entangling capacities with the state only restricted on one side or the other E , U sup B E U A B , E , U sup B,U0 E UU0 A B E U0 A B , E , U sup B E U A B , E , U sup B,U0 E UU0 A B E U0 A B . From the definitions it is clear that E U E , U EU and E U E , U EU. Throughout this paper we use the asterisk to indicate either or . Next we consider what happens if we allow the dimen sions of HAU and HBU to be expanded. That is, we may take HB1 U HB2 U , and allow U to act upon HAU HBU , although it only acts as the identity upon HA2 U and HB2 U . In this case, we find that E , . For the example of E , U , the result may be shown in the following way. We take the initial state A BU , where is a state giving a change in entanglement within o of the supremum in . We take , . The dimension of HA2 U is taken to be equal to that of Alice s ancilla in AB with the subsystems as in the definition , the dimension of HB2 U is equal to that of Bob s ancilla in AB, and the dimension of HB3 U is\n",
      "vec: [-0.12022653222084045, -0.07752958685159683, -0.0850333720445633, -0.036983296275138855, -0.10126255452632904, 0.10064299404621124, 0.10910709202289581, -0.038293641060590744, -0.03310199826955795, -0.14371362328529358, -0.09039966762065887, -0.025138098746538162, 0.1807331144809723, 0.04592026025056839, -0.009608134627342224, 0.06450450420379639, 0.15565069019794464, -0.004694690927863121, -0.3573119044303894, 0.10474580526351929, 0.1128249391913414, -0.09837900847196579, 0.08816458284854889, 0.03999391943216324, 0.01074284128844738, -0.23125052452087402, 0.052901048213243484, -0.05811069905757904, -0.03726714476943016, -0.023246651515364647, -0.03797938674688339, -0.0011981073766946793, 0.10051955282688141, -0.04260701686143875, 0.03829881548881531, -0.17581358551979065, 0.03745701536536217, -0.0810035839676857, -0.03321997448801994, -0.03631459176540375, 0.04921563342213631, 0.14700834453105927, -0.10892006754875183, 0.07522785663604736, 0.0005295377923175693, 0.09553200006484985, -0.032912082970142365, -0.06743072718381882, -0.16394807398319244, -0.15627345442771912, -0.004378593526780605, 0.2282741516828537, 0.0158768929541111, 0.05823083221912384, -0.0428704097867012, -0.06557108461856842, 0.03282086178660393, 0.18928202986717224, -0.09016256034374237, -0.11230312287807465, -0.09778764098882675, 0.05993260443210602, 0.048184577375650406, -0.028308473527431488, 0.11008012294769287, -0.027233831584453583, -0.005760415457189083, 0.028499692678451538, -0.19064748287200928, 0.14781638979911804, -0.09449206292629242, -0.15967027842998505, -0.17712903022766113, -0.017648518085479736, 0.11541859805583954, -0.05956503003835678, 0.04156557470560074, 0.04535198584198952, 0.033125896006822586, -0.00040492136031389236, 0.01481635682284832, 0.032121315598487854, 0.05782988667488098, -0.10497698187828064, 0.040497422218322754, -0.08019306510686874, -0.11245562136173248, -0.019067995250225067, 0.07150087505578995, 0.007996518164873123, -0.005595837719738483, -0.07663577795028687, -0.135850727558136, 0.06685574352741241, 0.18304136395454407, -0.10451243072748184, -0.08905523270368576, 0.1551491916179657, -0.03493410348892212, -0.01597103290259838, 0.12216641008853912, -0.09620334953069687, 0.13850010931491852, -0.1499428153038025, 0.16234755516052246, 0.0540628507733345, 0.15119072794914246, -0.06318299472332001, 0.09532997012138367, -0.0024833213537931442, 0.07781572639942169, -0.09660309553146362, 0.04190739244222641, -0.11566764116287231, -0.07378876954317093, -0.06804768741130829, 0.040355753153562546, 0.10797768831253052, 0.10789728164672852, -0.08326994627714157, 0.05619034543633461, 0.010403130203485489, 0.037001077085733414, 0.11073119193315506, 0.059532471001148224, 0.05890995264053345, -0.075795017182827, 1.995517446714389e-32, -0.017085853964090347, -0.15458452701568604, 0.017489854246377945, -0.017945921048521996, 0.015402726829051971, 0.10788905620574951, -0.013828473165631294, 0.006021114531904459, -0.015354878269135952, -0.049469031393527985, -0.08184797316789627, 0.2025078386068344, -0.019226398319005966, 0.08715701103210449, 0.07526613771915436, -0.04357541725039482, -0.0403011329472065, 0.09216833114624023, 0.041321076452732086, -0.0469270721077919, 0.09917046874761581, 0.054253511130809784, -0.07384262979030609, -0.007836295291781425, -0.014157906174659729, -0.13916869461536407, -0.006224481388926506, -0.020616445690393448, -0.15222761034965515, 0.04276488721370697, -0.07037945091724396, 0.040817178785800934, 0.0013912785798311234, -0.05300329625606537, -0.05511520057916641, -0.10290196537971497, 0.04318254813551903, 0.06968642771244049, -0.09983724355697632, -0.16718441247940063, 0.01641855575144291, -0.027597671374678612, 0.0037846388295292854, 0.012772624380886555, 0.05910924822092056, -0.17304766178131104, 0.060489002615213394, 0.08764468133449554, 0.05439191311597824, -0.1541554182767868, 0.05434352904558182, -0.06742912530899048, -0.027905862778425217, -0.0897987112402916, 0.04106419160962105, -0.017590725794434547, 0.038916151970624924, 0.12747573852539062, 0.06911365687847137, 0.13330520689487457, -0.17019662261009216, -0.012409402057528496, 0.01591438427567482, 0.08151179552078247, 0.0018755244091153145, 0.055438268929719925, -0.056190866976976395, -0.007413972169160843, 0.023467320948839188, -0.020486081019043922, -0.0050071850419044495, -0.01731201447546482, 0.20163318514823914, -0.10753622651100159, 0.05702901631593704, -0.1021452248096466, 0.1266230046749115, -0.02109445445239544, -0.0707625299692154, 0.024422917515039444, -0.12960688769817352, -0.04882337152957916, -0.11376617848873138, -0.027368497103452682, -0.15514865517616272, -0.0561448410153389, 0.00027458276599645615, -0.02490917779505253, 0.0018643094226717949, 0.11169590055942535, 0.09984186291694641, -0.11693152040243149, 0.10517317056655884, 0.034180499613285065, 0.11049245297908783, -1.7886154534166935e-32, 0.012670490890741348, 0.025850437581539154, -0.03764308989048004, -0.09427763521671295, 0.045182984322309494, 0.005251144990324974, 0.12684366106987, -0.04851973429322243, -0.04319513961672783, -0.10688909888267517, -0.0002421848475933075, 0.030295319855213165, 0.16280090808868408, 0.037607286125421524, -0.056154921650886536, 0.05320695415139198, 0.05852096900343895, 0.06572370231151581, 0.09853431582450867, 0.056424736976623535, 0.09718115627765656, -0.05586942285299301, -0.11311265826225281, 0.014203119091689587, -0.048416946083307266, 0.05704071745276451, 0.00720943370833993, 0.22057673335075378, 0.08690934628248215, -0.00013590650632977486, -0.08392849564552307, -0.13499820232391357, -0.23698952794075012, 0.07779823988676071, -0.14928823709487915, -0.18248100578784943, 0.03963818401098251, -0.02642887458205223, -0.08705256879329681, -0.06432545930147171, 0.020351294428110123, -0.08850523829460144, 0.01252557709813118, 0.020235467702150345, 0.17381936311721802, -0.03646290302276611, -0.00655711442232132, -0.11973374336957932, -0.15488742291927338, -0.047137562185525894, 0.07563485205173492, 0.0186476968228817, -0.038161806762218475, 0.1432686746120453, -0.14351598918437958, -0.029423201456665993, -0.04642247408628464, -0.008263659663498402, 0.054910965263843536, 0.029556065797805786, -0.00923842377960682, 0.1413985788822174, -0.007455330342054367, 0.20191776752471924, 0.04032325744628906, -0.009119585156440735, -0.019993266090750694, -0.011447394266724586, -0.020777009427547455, -0.015689030289649963, -0.09459692239761353, -0.01707654446363449, 0.010265687480568886, -0.030812809243798256, 0.08823469281196594, 0.13024866580963135, 0.0805983915925026, -0.11487534642219543, -0.04754026234149933, -0.06046685576438904, -0.11696044355630875, -0.03390613943338394, -0.013435643166303635, 0.04703196510672569, -0.013649777509272099, -0.10068551450967789, -0.015132111497223377, 0.034750476479530334, 0.1272316724061966, -0.034097347408533096, -0.085894875228405, -0.1439981758594513, -0.04492698609828949, 0.058194056153297424, -0.08242958784103394, -1.0010408146854388e-07, 0.043247196823358536, -0.04558948799967766, 0.02688552998006344, -0.034707557410001755, 0.0999663695693016, -0.08499498665332794, -0.0026982142589986324, 0.1266724318265915, -0.039436206221580505, 0.0570765845477581, 0.024494018405675888, 0.027850110083818436, -0.09433245658874512, -0.052021510899066925, 0.05997570604085922, 0.07235810905694962, 0.008520739153027534, -0.17611196637153625, 0.12260286509990692, 0.006282067857682705, 0.03657606244087219, 0.010169925168156624, 0.0137673020362854, 0.08683763444423676, -0.15797553956508636, 0.045342255383729935, -0.07969926297664642, 0.06574331223964691, -0.027625449001789093, 0.048308588564395905, -0.01234589982777834, -0.02331889607012272, 0.1397329866886139, 0.07611837983131409, -0.005798421800136566, -0.0679607018828392, -0.04958096146583557, -0.017656635493040085, -0.07843660563230515, 0.17231227457523346, 0.07078740000724792, -0.055419355630874634, 0.12978899478912354, -0.045191142708063126, 0.15266653895378113, 0.05513107031583786, 0.029873963445425034, -0.0020325849764049053, 0.13129723072052002, 0.059483371675014496, 0.0044707185588777065, -0.04456286132335663, 0.015406187623739243, -0.00577441044151783, 0.023609865456819534, 0.011089864186942577, -0.01792813464999199, -0.03779664635658264, 0.13557034730911255, 0.1113649308681488, 0.019940635189414024, 0.13390105962753296, -0.059046193957328796, 0.09544413536787033] 0704.2066v1 0704.2066v1_2\n"
     ]
    },
    {
     "name": "stderr",
     "output_type": "stream",
     "text": [
      "Embedding:   0%|          | 3/52554 [00:00<1:42:29,  8.55chunk/s]"
     ]
    },
    {
     "name": "stdout",
     "output_type": "stream",
     "text": [
      "text: equal to that of Alice s component of AB. The dimensions of HA1 U and HB1 U are the same as HAU and HBU for AB that is, they are the subsystems that U acts nontrivially upon . The operation U0 is taken to swap the states of the subsystems HAU and HBU,3, giving Aanc,B3 U AU ,B1 U ,B2 U . Because U only acts nontrivially on HA1 U HB1 U , the change in entanglement under U is EU o . As we may take o to be arbitrarily small, E , . All communication capacitites considered here are un altered if larger dimensions are permitted for HAU and HBU . Therefore, any relations that can be proven for E , U also hold for EU. The only other capacity which we consider in this work that may depend on the dimen sions of HAU and HBU is E U . However, in this case it does not appear that it simplifies to EU under an expanded dimension. 3 B. Holevo capacities Next we define a range of capacities for increasing the Holevo information. An ensemble is a set of states that are supplied with probabilities pj. The ensemble is denoted by . The Holevo information of the ensemble E is given by E S X j pjS j , where P j pj j. This quantity gives the asymptotic communication that may be performed using an ensem ble by coding over multiple copies . The Holevo capacities are defined by U sup pj,V A j , AB pj, TrAUV A j AB , U sup pj,V B j , AB pj, TrBUV B j AB , U sup E TrAUE TrAE , U sup E TrBUE TrBE . Here V A j and V B j are local unitaries that act in Alice and Bob s subsystems, respectively. Throughout we use the convention that the superscripts on local operators indicate the subsystems they act upon. We also use the notation conventions TrX TrX , UE , TrXE . We also omit the curly brackets when directly taking the Holevo information of an ensemble. The capacities U and U are the capacities for ob taining Holevo information on Bob and Alice s sides, re spectively, without initial correlations. The capacities U and U are the capacities for increasing the Holevo information on Bob and Alice s sides, respectively. These capacities give the asymptotic communication ca pacities from Alice to Bob and Bob to Alice, respectively . From the definitions it is clear that U U indicates or . One may also define Holevo capacities for initially un entangled states U sup pj, j A, B pj, TrAU j A B , U sup pj, A, j B pj, TrBU A j B , U sup pj, j A, j B pj, TrAU j A j B pj, TrA j A j B , U sup pj, j A, j B pj, TrBU j A j B pj, TrB j A j B . These capacities are more restrictive than those in Eqs. to , so U U and U U. It is also clear from the definitions that U U . In Ref. it was shown that U EU and U EU. In addi tion, it was shown that, for controlled unitary operations, . III. RELATIONS BETWEEN CAPACITIES A. Symmetry The capacities E U and E U differ from the usual ca pacities in that they are intrinsically time symmetric. That is, E U , E U . To show this for E U , note that U A U AancBanc A B. Here we use superscripts on U to indicate that it is acting on the ancillas otherwise it is acting upon HAU HBU . As is symmetric under exchange of the system and the ancilla, we have E U AancBanc A B E U A B\n",
      "vec: [-0.02643977478146553, -0.08590742945671082, -0.04303499683737755, 0.006370343267917633, -0.05500522628426552, 0.021228894591331482, 0.15629547834396362, -0.06679952889680862, 0.02520884945988655, -0.07072873413562775, -0.12211647629737854, -0.02441026084125042, 0.16158828139305115, -0.11455461382865906, 0.037315189838409424, 0.07998479157686234, 0.03908507525920868, 0.014451328665018082, -0.26028430461883545, 0.1302434355020523, 0.12632732093334198, -0.07299391180276871, 0.02804485149681568, 0.020729433745145798, 0.08804932236671448, -0.11637111008167267, 0.07753714919090271, -0.01588261127471924, -0.09971366822719574, -0.05823845416307449, 0.0110775800421834, 0.02105644904077053, 0.13813817501068115, -0.07225137948989868, 0.03846395015716553, 0.03752850741147995, -0.04102039337158203, 0.046301692724227905, 0.05008494853973389, 0.06444136798381805, 0.03303201124072075, 0.14741277694702148, -0.10278259217739105, 0.0724373310804367, -0.050868820399045944, 0.05179423838853836, 0.024761050939559937, 0.013871452771127224, -0.11570518463850021, -0.16650518774986267, 0.059997789561748505, 0.16489586234092712, -0.029518237337470055, 0.05385512486100197, -0.02258443273603916, -0.16388338804244995, 0.04324357584118843, 0.08939261734485626, -0.024690676480531693, 0.03426891565322876, -0.05824210122227669, 0.0724678784608841, -0.06991368532180786, -0.04922778531908989, 0.1567293107509613, 0.033462438732385635, 0.02183445729315281, 0.059341832995414734, -0.19241996109485626, 0.17173120379447937, -0.12820090353488922, -0.10557033866643906, -0.24829919636249542, 0.08950228244066238, 0.106307253241539, -0.02583978697657585, 0.10558807849884033, 0.09779101610183716, 0.10333883762359619, 0.0009531434625387192, -0.009518789127469063, 0.0916273444890976, 0.02260848693549633, -0.09556245803833008, 0.07523004710674286, -0.08851523697376251, -0.1312992423772812, -0.03604726865887642, 0.06705914437770844, -0.1579783409833908, -0.07649923861026764, -0.15253090858459473, -0.08127271384000778, 0.04192911460995674, 0.08334439992904663, -0.10172683000564575, -0.06297057867050171, 0.033970899879932404, 0.11462955176830292, 0.07893730700016022, 0.01614028587937355, -0.15801027417182922, 0.06895776093006134, -0.10960374772548676, 0.08159061521291733, 0.12474019825458527, 0.0716249942779541, 0.07035943865776062, 0.1236976683139801, 0.058581527322530746, 0.07332049310207367, -0.09681721776723862, 0.0005862060934305191, -0.01379657257348299, -0.07460162043571472, 0.021143555641174316, 0.07494925707578659, 0.03750000149011612, 0.06186845153570175, -0.11001907289028168, 0.045874591916799545, 0.0038208551704883575, 0.08041734993457794, -0.035841554403305054, 0.018974121659994125, 0.025735199451446533, -0.10170456767082214, 1.6287117813799869e-32, 0.006364795379340649, -0.07034483551979065, -0.07113233208656311, 0.027850685641169548, 0.06198833882808685, 0.02539626881480217, 0.02167399972677231, -0.17132636904716492, -0.09048288315534592, 0.04198097437620163, -0.09848186373710632, 0.17305749654769897, 0.01387527771294117, 0.05524510517716408, 0.09156723320484161, 0.01958828791975975, -0.06388407945632935, 0.0749623104929924, 0.08749242126941681, -0.10706527531147003, 0.12336885929107666, 0.059120289981365204, -0.03595547378063202, 0.1223682314157486, -0.058076538145542145, -0.14999529719352722, 0.029711119830608368, -0.08787088096141815, -0.13962413370609283, 0.03253800421953201, -0.02838614210486412, 0.06611572206020355, 0.05519861355423927, -0.06529558449983597, -0.018151426687836647, -0.1294189840555191, -0.01529385894536972, -0.07021226733922958, -0.09517454355955124, -0.10633663833141327, 0.019846051931381226, -0.027982773259282112, -0.022770224139094353, -0.04144825041294098, -0.08878488838672638, -0.12230131030082703, 0.11136119812726974, 0.013267932459712029, 0.010876387357711792, -0.09983930736780167, 0.03351771831512451, -0.014765312895178795, 0.03477241098880768, -0.06066819652915001, 0.07459967583417892, 0.03107335790991783, 0.10780875384807587, 0.14593899250030518, 0.2164343297481537, 0.13704051077365875, -0.16249191761016846, 0.11716131865978241, 0.09858104586601257, 0.025174781680107117, 0.0379624143242836, 0.0389065183699131, -0.1034562960267067, -0.01886572316288948, 0.24240703880786896, -0.14394666254520416, -0.017230693250894547, 0.08977390080690384, 0.143932044506073, -0.04198751226067543, -0.027206333354115486, -0.03767037019133568, 0.10001860558986664, -0.08567032217979431, -0.09360566735267639, 0.0223422609269619, -0.16426214575767517, -0.07833221554756165, -0.13842085003852844, -0.01970447413623333, -0.20103982090950012, -0.1430756151676178, 0.020460478961467743, -0.10205107927322388, -0.14092834293842316, 0.006173130124807358, 0.0037454813718795776, -0.13149960339069366, 0.08364158123731613, -0.09317579120397568, 0.031168468296527863, -1.346504093485563e-32, -0.013276266865432262, -0.0669163390994072, -0.12012428045272827, -0.06847402453422546, -0.023446938022971153, -0.02289862558245659, 0.10277216136455536, -0.06182989105582237, -0.1453847587108612, -0.093196339905262, -0.08357812464237213, 0.021877150982618332, 0.030636481940746307, 0.03642130270600319, 0.14090347290039062, 0.05569931119680405, 0.09969314932823181, 0.0781676173210144, -0.0023121051490306854, -0.05214914679527283, 0.06386109441518784, 0.041251398622989655, -0.038577042520046234, -0.040532760322093964, -0.024764103814959526, -0.0153178870677948, 0.01122976839542389, 0.1842033714056015, 0.0848410502076149, -0.022873330861330032, -0.08840418606996536, -0.0857534259557724, -0.17658285796642303, 0.19457799196243286, -0.08916357159614563, -0.15193314850330353, 0.07836552709341049, 0.030208777636289597, -0.049576111137866974, -0.039864152669906616, 0.11956029385328293, -0.11557973176240921, 0.010599625296890736, 0.08578354865312576, 0.13240207731723785, -0.06713658571243286, -0.06583047658205032, -0.1347082555294037, -0.09062525629997253, -0.11754042655229568, 0.09109331667423248, -0.02912522852420807, -0.008586752228438854, 0.07873258739709854, -0.11619319021701813, 0.07182516157627106, 0.042050234973430634, -0.043371327221393585, 0.18130424618721008, -0.04892706125974655, -0.07728241384029388, 0.003849201602861285, 0.0621204636991024, 0.17759943008422852, 0.15069299936294556, -0.01804589480161667, -0.11825200915336609, -0.0878809317946434, 0.0354640819132328, 0.012725074775516987, -0.026427071541547775, -0.04739454761147499, -0.006685889326035976, -0.05751616507768631, 0.12274890393018723, 0.025025948882102966, 0.03410942479968071, -0.02425018697977066, -0.15573416650295258, -0.04663842171430588, -0.14948269724845886, 0.03215037286281586, -0.02410499006509781, 0.07413588464260101, 0.02362138405442238, -0.021048683673143387, 0.07853029668331146, 0.04123779386281967, 0.005871398374438286, -0.004588255658745766, -0.0654301866889, -0.02153678610920906, 0.05790025368332863, 0.028766099363565445, -0.08556267619132996, -9.974326076189755e-08, 0.027932967990636826, -0.06296299397945404, -0.06903058290481567, 0.05523833632469177, 0.21724313497543335, -0.04441867023706436, -0.08627849072217941, 0.06647142767906189, -0.052362751215696335, 0.15761297941207886, 0.05952997878193855, 0.03845629468560219, -0.003746367059648037, -0.04480232670903206, 0.10571597516536713, 0.060302309691905975, -0.11648311465978622, -0.08929728716611862, -0.013764687813818455, -0.07596056908369064, -0.011113572865724564, 0.005485439207404852, 0.03888221085071564, 0.17482227087020874, -0.05282135307788849, -0.0551750585436821, -0.03817952424287796, -0.057636559009552, 0.009454149752855301, 0.046357203274965286, -0.09728279709815979, 0.07566133141517639, 0.13976281881332397, 0.04329215735197067, 0.15270569920539856, -0.03154556825757027, 0.014631398022174835, -0.02721104770898819, -0.0774034708738327, 0.22068899869918823, 0.07503800839185715, -0.07195693254470825, 0.10119840502738953, 0.01731005497276783, 0.11175604164600372, 0.08840973675251007, -0.06418220698833466, 0.04173102229833603, 0.07494497299194336, -0.017052507027983665, 0.007428454700857401, 0.004713145084679127, -0.09421765804290771, 0.11221754550933838, 0.004837066866457462, 0.022926941514015198, -0.029065396636724472, -0.11984554678201675, 0.20578277111053467, 0.10612127184867859, 0.06987428665161133, 0.19577355682849884, -0.0426429882645607, 0.010590055957436562] 0704.2066v1 0704.2066v1_3\n",
      "vec: [-0.06630104780197144, -0.03280509263277054, -0.007552661933004856, -0.07158385217189789, -0.13578540086746216, 0.03713293373584747, 0.03574433922767639, -0.01732470840215683, -0.07581733167171478, -0.11684345453977585, -0.07845110446214676, -0.038388028740882874, 0.09975524246692657, -0.08298714458942413, 0.0013202247209846973, 0.11317674815654755, 0.04866407811641693, 0.011490189470350742, -0.1769222766160965, 0.06968305259943008, 0.1721305549144745, -0.12947596609592438, 0.013120935298502445, -0.00864905584603548, 0.0603591725230217, -0.0539710558950901, 0.0266636423766613, 0.010190755128860474, -0.0401349775493145, -0.09557715058326721, 0.0031686846632510424, 0.0013098763301968575, 0.031226184219121933, -0.06958116590976715, -0.00048010051250457764, -0.058205947279930115, -0.032366156578063965, -0.015997935086488724, 0.016304776072502136, -0.04770045354962349, 0.020584285259246826, 0.1268799901008606, -0.07668929547071457, 0.05727759003639221, -0.08371397852897644, 0.008201327174901962, 0.04669962823390961, -0.06666964292526245, -0.12359492480754852, -0.10024584084749222, 0.054705385118722916, 0.18699964880943298, -0.049433670938014984, 0.07079656422138214, -0.02718561515212059, -0.06562457233667374, 0.023969940841197968, 0.12150661647319794, -0.028904350474476814, -0.037984222173690796, -0.007789796218276024, 0.051329076290130615, -0.09547051787376404, -0.01990938000380993, 0.04742871969938278, 0.015659531578421593, 0.017568279057741165, 0.022434119135141373, -0.19905990362167358, 0.06373228877782822, -0.04565791040658951, -0.06715202331542969, -0.11562614142894745, 0.043782077729701996, 0.17371870577335358, -0.006585010327398777, 0.01702105440199375, 0.042307205498218536, 0.0911344513297081, -0.11994674801826477, 0.029498444870114326, -0.01126268319785595, 0.049954354763031006, -0.10493025183677673, 0.08552643656730652, -0.08253873884677887, -0.05494958907365799, -0.08299034833908081, 0.07432003319263458, -0.05140317603945732, 0.04073793441057205, -0.06998561322689056, -0.10666926205158234, -0.03615397959947586, 0.19049197435379028, -0.05832529067993164, -0.06587372720241547, 0.10152135789394379, 0.030568987131118774, 0.06146650016307831, 0.06649981439113617, -0.15503880381584167, -0.012318478897213936, -0.036090150475502014, 0.08783420920372009, 0.09787960350513458, 0.1512826532125473, 0.02590959519147873, 0.1251613348722458, 0.06561621278524399, 0.11757190525531769, -0.0003564944490790367, 0.019606735557317734, -0.0177995003759861, -0.0751112625002861, 0.060012087225914, 0.07389894127845764, 0.11359548568725586, 0.021914448589086533, -0.026766737923026085, 0.04871745407581329, 0.021928897127509117, -0.004630797542631626, 0.0261613130569458, 0.048723772168159485, -0.027218306437134743, -0.061553359031677246, 2.127717067890916e-32, 0.044154874980449677, -0.10053771734237671, -0.02918468788266182, -0.03906489536166191, -0.01656857505440712, 0.026734180748462677, -0.018602542579174042, -0.1040501669049263, -0.07423721253871918, 0.0013871651608496904, -0.12253636866807938, 0.10578884184360504, -0.08088050782680511, 0.03608562424778938, 0.009363447315990925, -0.060863249003887177, 0.015641428530216217, 0.04086802899837494, 0.03677038848400116, -0.09678225219249725, 0.11222727596759796, 0.1254599690437317, -0.025937579572200775, 0.029577936977148056, -0.08454906195402145, -0.10556365549564362, 0.08659431338310242, -0.08724916726350784, -0.16649280488491058, 0.07522070407867432, -0.04785102605819702, -0.06106691062450409, -0.043638356029987335, 0.034336432814598083, -0.016293160617351532, -0.06554936617612839, 0.005923293065279722, 0.08149013668298721, -0.029864341020584106, -0.12063939869403839, 0.016081126406788826, 0.005489283241331577, -0.09282834827899933, 0.0076694004237651825, -0.0241970457136631, -0.12174135446548462, 0.16016578674316406, 0.06951656192541122, 0.02407163567841053, 0.0077050551772117615, 0.019893493503332138, -0.03252395614981651, 0.01914718933403492, 0.01200785394757986, 0.046501658856868744, -0.005289712455123663, 0.13916540145874023, 0.06129918992519379, 0.10109013319015503, 0.10565397143363953, -0.06175100803375244, 0.08103461563587189, 0.008176419883966446, -0.050532788038253784, -0.080448217689991, 0.07185089588165283, 0.010336825624108315, -0.09455105662345886, 0.14263439178466797, -0.12138102948665619, -0.06701255589723587, 0.05869085341691971, 0.15989767014980316, -0.01466040313243866, 0.04146552085876465, -0.03793656826019287, 0.1619502305984497, -0.04144665598869324, -0.1070822924375534, -0.03729388862848282, -0.09743061661720276, -0.06979268789291382, -0.13695383071899414, -0.011239193379878998, -0.170410618185997, -0.0990237295627594, 0.005530292168259621, -0.1040145754814148, -0.10509030520915985, 0.04486377537250519, 0.10839291661977768, -0.09301988780498505, 0.08047899603843689, 0.001861585769802332, 0.06949536502361298, -1.7529973868396027e-32, 0.007104717660695314, -0.09537982195615768, 0.010736851952970028, 0.0071760802529752254, -0.04793941602110863, 0.018760930746793747, 0.07703900337219238, 0.016699420288205147, -0.09339052438735962, -0.1044863760471344, -0.044469453394412994, 0.03270815685391426, 0.11899407207965851, 0.032648611813783646, 0.0618562251329422, 0.04958876222372055, 0.0948229432106018, 0.03302031010389328, 0.022888824343681335, -0.030311744660139084, -0.002955278381705284, 0.12712909281253815, -0.05127397179603577, -0.02290506474673748, -0.01596253551542759, 0.06910520046949387, 0.015399932861328125, 0.149130180478096, 0.11015132814645767, 0.01624351553618908, -0.02895384281873703, -0.05614643171429634, -0.1454828977584839, 0.14488306641578674, -0.14553344249725342, -0.09062029421329498, 0.04024256020784378, 0.019837919622659683, -0.0996900275349617, 0.006502249278128147, 0.03273584321141243, -0.09746028482913971, -0.012806303799152374, 0.12078622728586197, 0.07206025719642639, -0.07484279572963715, -0.017549224197864532, -0.02864324115216732, -0.17257580161094666, -0.02605942264199257, 0.05276944860816002, -0.002195213921368122, -0.059917084872722626, 0.06819072365760803, -0.09927330911159515, 0.061785247176885605, -0.021261252462863922, -0.05832760035991669, 0.0738392174243927, -0.013111552223563194, -0.02987932413816452, 0.05418769270181656, 0.040556877851486206, 0.12140622735023499, 0.07838654518127441, -0.0023580407723784447, -0.03786391392350197, -0.06473509967327118, 0.026174305006861687, 0.07334578037261963, -0.05961783602833748, 0.0026545682922005653, -0.030208777636289597, -0.10551972687244415, 0.2091265618801117, 0.09741467237472534, 0.0627787634730339, -0.08732185512781143, -0.04041814059019089, -0.036501504480838776, -0.12179555743932724, 0.015593327581882477, -0.020215699449181557, 0.022387046366930008, -0.03872218355536461, -0.037634678184986115, 0.0007810554234310985, 0.046304382383823395, 0.035145848989486694, 0.12272575497627258, -0.0429769828915596, -0.02426488697528839, 0.007939846254885197, 0.06361635029315948, 0.0067231496796011925, -9.977358672585979e-08, 0.04829486459493637, -0.10623547434806824, -0.02558746002614498, 0.07696400582790375, 0.0705285519361496, -0.015068561770021915, -0.028541184961795807, 0.13863131403923035, -0.017894141376018524, 0.0939529538154602, 0.053108759224414825, 0.037513501942157745, -0.08698113262653351, -0.06969574093818665, 0.024718649685382843, 0.08962900936603546, -0.011951331049203873, -0.035438891500234604, -0.039605118334293365, -0.08523733168840408, 0.03446980565786362, -0.05177925154566765, 0.045143574476242065, 0.09899362921714783, -0.05479561537504196, -0.05798260122537613, -0.13950711488723755, -0.014349407516419888, -0.018726367503404617, 0.09740999341011047, -0.05485410988330841, 0.03164927288889885, 0.05639304965734482, -0.04532959312200546, 0.011831436306238174, -0.030656058341264725, 0.0274282768368721, 0.023023778572678566, 0.004175694193691015, 0.14623969793319702, 0.07583122700452805, -0.04596560820937157, 0.08590273559093475, 0.03384880721569061, 0.09389522671699524, 0.05215447396039963, -0.04523915797472, 0.00043365173041820526, 0.11187712848186493, 0.0020842503290623426, 0.04180259257555008, -0.07566390931606293, -0.05224424973130226, 0.05098782479763031, -0.10716843605041504, 0.036806024610996246, -0.04555296152830124, 0.0037609501741826534, 0.17573301494121552, 0.07341186702251434, -0.03323192521929741, 0.16575267910957336, -0.061565227806568146, 0.011402774602174759] 0704.2066v1 0704.2066v1_4\n"
     ]
    },
    {
     "name": "stderr",
     "output_type": "stream",
     "text": [
      "Embedding:   0%|          | 6/52554 [00:00<1:35:28,  9.17chunk/s]"
     ]
    },
    {
     "name": "stdout",
     "output_type": "stream",
     "text": [
      "vec: [-0.0694849044084549, -0.054925303906202316, 0.01672368496656418, 0.028574293479323387, -0.06741464138031006, 0.07770006358623505, 0.11882872879505157, -0.10363711416721344, 0.04807964712381363, -0.011328935623168945, -0.13002493977546692, -0.02242211438715458, 0.10346117615699768, -0.048338472843170166, 0.012813402339816093, 0.05051150172948837, 0.1025036871433258, 0.050209954380989075, -0.2833574116230011, 0.10337954759597778, 0.13074778020381927, -0.11601972579956055, 0.006583652459084988, 0.02164803259074688, 0.03919254243373871, -0.10555936396121979, 0.04154817759990692, -0.01581302471458912, -0.08584164828062057, -0.13929691910743713, -0.007594684138894081, 0.0655355155467987, 0.06775068491697311, -0.0607585683465004, 0.028758229687809944, -0.04669204354286194, 0.0321556031703949, 0.018333297222852707, 0.03257453814148903, 0.06970539689064026, 0.003948478028178215, 0.07702237367630005, -0.10328246653079987, 0.07317383587360382, -0.05932928994297981, 0.07622262090444565, 0.061667054891586304, 0.020036496222019196, -0.09128642082214355, -0.17209574580192566, -0.003197941929101944, 0.22189980745315552, -0.00401438120752573, 0.01928441971540451, 0.0035339901223778725, -0.11294274032115936, 0.04242147505283356, 0.10059060156345367, -0.10708761215209961, -0.027010949328541756, -0.061873313039541245, 0.056590281426906586, -0.04094570502638817, -0.012720571830868721, 0.1773635745048523, 0.02785038948059082, 0.02654898725450039, 0.06738266348838806, -0.15893861651420593, 0.09995437413454056, -0.024517551064491272, -0.12685677409172058, -0.21773065626621246, -0.030191250145435333, 0.12326005101203918, -0.08082519471645355, 0.13000783324241638, 0.11186190694570541, 0.09633353352546692, 0.05664139240980148, 0.009695807471871376, 0.10334745049476624, 0.039479322731494904, -0.11344841867685318, 0.07982565462589264, -0.0719127207994461, -0.08299919217824936, -0.040656138211488724, -0.0039735520258545876, -0.016057167202234268, -0.09718821197748184, -0.1600949466228485, -0.08154110610485077, 0.08811822533607483, 0.21671852469444275, -0.06984903663396835, -0.058601465076208115, 0.05305398628115654, 0.07384143769741058, 0.07557268440723419, 0.05505644157528877, -0.08535075187683105, 0.036183588206768036, -0.07129048556089401, 0.04138721525669098, 0.09395981580018997, 0.1358882337808609, 0.06042514741420746, 0.17194877564907074, 0.03963224217295647, 0.09790484607219696, -0.07931488752365112, 0.012949248775839806, -0.00878868903964758, 0.009315263479948044, -0.01276957057416439, 0.0645880401134491, 0.13599134981632233, 0.021235590800642967, -0.09929577261209488, 0.05810132995247841, -0.012224606238305569, 0.06567694991827011, 0.11023429036140442, 0.07625133544206619, -0.01305040717124939, -0.053722720593214035, 1.80771282851374e-32, 0.026205750182271004, -0.07853725552558899, -0.0039010639302432537, -0.0014276965521275997, 0.0501549169421196, 0.041886087507009506, 0.01133466325700283, -0.1279643177986145, -0.0490640327334404, 0.01590024121105671, -0.13983651995658875, 0.16815638542175293, -0.0725448951125145, 0.08288789540529251, 0.022202378138899803, 0.11316466331481934, -0.13621079921722412, 0.11329376697540283, 0.048026055097579956, -0.16319838166236877, 0.09011527895927429, 0.013747137039899826, -0.05246987193822861, -0.054894499480724335, -0.04728709161281586, -0.14590883255004883, 0.07066109776496887, -0.012419691309332848, -0.11779455840587616, 0.023274779319763184, -0.10971823334693909, 0.00922035425901413, 0.08104025572538376, -0.006719974800944328, -0.02610056847333908, -0.1288800686597824, 0.03718284144997597, 0.03613527864217758, -0.14037221670150757, -0.07362699508666992, 0.05063898116350174, -0.00108322873711586, -0.04128457233309746, -0.028780175372958183, 0.0003370293416082859, -0.166889950633049, 0.008543776348233223, 0.012171123176813126, -0.0035532708279788494, -0.05512496083974838, 0.10701322555541992, -0.01574908196926117, -0.03346412628889084, -0.10491999238729477, 0.061765387654304504, -0.009541042149066925, 0.043644413352012634, 0.14932577311992645, 0.14496222138404846, 0.15845391154289246, -0.1727842092514038, 0.08873412013053894, 0.0425724983215332, 0.0203919168561697, -0.09205503761768341, 0.07923197001218796, -0.08089156448841095, -0.03213267773389816, 0.11296172440052032, -0.08533576130867004, -0.10068973898887634, 0.03553076833486557, 0.13543787598609924, -0.05638045072555542, 0.028174739331007004, -0.11559678614139557, 0.13142536580562592, -0.06536475569009781, -0.017216797918081284, 0.06268181651830673, -0.0870080292224884, -0.09836262464523315, -0.09235048294067383, 0.036203328520059586, -0.21217183768749237, -0.08112630248069763, 0.03287968039512634, -0.0970415323972702, -0.07630141079425812, 0.0008944077417254448, 0.06029573455452919, -0.06204034388065338, 0.1124679446220398, 0.000522577203810215, 0.11042405664920807, -1.5435959986784713e-32, -0.011263998225331306, -0.03865908831357956, -0.08960287272930145, -0.09312667697668076, -0.03252314776182175, -0.059006065130233765, 0.08448252826929092, -0.07106533646583557, -0.10636522620916367, -0.08526194095611572, -0.022156784310936928, -0.020648939535021782, 0.05164562910795212, 0.1093786284327507, 0.04915706068277359, 0.08014456182718277, 0.05565716326236725, 0.03287200629711151, 0.030449602752923965, 0.07251468300819397, 0.07009711861610413, 0.043812550604343414, -0.07700422406196594, -0.06534907221794128, 0.04060119763016701, 0.003957170061767101, 0.005466628819704056, 0.23107017576694489, 0.08283583074808121, -0.037298332899808884, 0.03698720782995224, -0.15040814876556396, -0.22822216153144836, 0.10461819171905518, -0.10710571706295013, -0.05073282867670059, 0.06773994117975235, 0.027215229347348213, -0.10462217032909393, -0.0019826076459139585, 0.057756975293159485, -0.10348686575889587, -0.020171018317341805, 0.03508618474006653, 0.0857207328081131, -0.10158766806125641, -0.005375271663069725, -0.09128828346729279, -0.12102096527814865, -0.025307130068540573, 0.12348230183124542, -0.0016823532059788704, 0.01826878823339939, 0.10078807175159454, -0.14931729435920715, 0.04444337263703346, 0.09012284129858017, 0.014022947289049625, 0.1063338965177536, -0.040867507457733154, -0.1013142392039299, 0.049323804676532745, 0.01021182257682085, 0.10383101552724838, 0.14831513166427612, -0.0012910990044474602, -0.07487475126981735, -0.041416868567466736, 0.0072021083906292915, -0.029187999665737152, -0.017011312767863274, -0.09471292048692703, -0.04869282990694046, -0.057077355682849884, 0.252847820520401, 0.18333503603935242, -0.03225142881274223, -0.02419494092464447, -0.11999347805976868, 0.005055059678852558, -0.21204069256782532, 0.02830948866903782, 0.026733610779047012, 0.0011251326650381088, 0.027868326753377914, 0.07591123878955841, 0.033897869288921356, 0.013834036886692047, 0.03753763064742088, 0.03196483850479126, -0.026204373687505722, -0.042080968618392944, 0.04786260053515434, -0.005011678207665682, -0.04912378638982773, -9.967257597054413e-08, -0.006987733766436577, -0.08124712854623795, -0.06268435716629028, 0.029928039759397507, 0.15499985218048096, -0.0971883237361908, -0.03532201796770096, 0.12449505180120468, -0.037018533796072006, 0.0782032310962677, 0.027302831411361694, 0.05347979813814163, -0.0843629539012909, -0.02328280359506607, 0.12846268713474274, 0.06455528736114502, -0.13036766648292542, -0.137699693441391, 0.016428565606474876, 0.0011462420225143433, 0.023872021585702896, -0.06755849719047546, -0.0008775126188993454, 0.11247484385967255, -0.11640976369380951, -0.0528806634247303, -0.02281969040632248, 0.050737589597702026, -0.05674581602215767, 0.07142940163612366, -0.04758818447589874, 0.05404307320713997, 0.06286643445491791, 0.05418375879526138, 0.04382677376270294, -0.0888211578130722, 0.0037366440519690514, -0.02587508037686348, -0.14514219760894775, 0.16723191738128662, -0.006681706756353378, -0.09217699617147446, 0.07195457071065903, -0.050388552248477936, 0.1286882907152176, 0.0620650015771389, 0.0012021473376080394, -0.03197406232357025, 0.041861392557621, 0.018671896308660507, -0.0016351547092199326, -0.0773010402917862, -0.057425208389759064, 0.024870770052075386, 0.03857533633708954, 0.04851745441555977, -0.01994217187166214, -0.08051474392414093, 0.13125935196876526, 0.079278364777565, 0.004805398173630238, 0.23376691341400146, -0.06160610169172287, -0.003029685467481613] 0704.2066v1 0704.2066v1_5\n"
     ]
    },
    {
     "name": "stderr",
     "output_type": "stream",
     "text": [
      "Embedding:   0%|          | 97/52554 [00:10<1:37:42,  8.95chunk/s]\n"
     ]
    },
    {
     "ename": "KeyboardInterrupt",
     "evalue": "",
     "output_type": "error",
     "traceback": [
      "\u001b[0;31m---------------------------------------------------------------------------\u001b[0m",
      "\u001b[0;31mKeyboardInterrupt\u001b[0m                         Traceback (most recent call last)",
      "Cell \u001b[0;32mIn[10], line 11\u001b[0m\n\u001b[1;32m      9\u001b[0m     \u001b[38;5;28;01mif\u001b[39;00m count \u001b[38;5;241m<\u001b[39m \u001b[38;5;241m5\u001b[39m:\n\u001b[1;32m     10\u001b[0m         \u001b[38;5;28mprint\u001b[39m(\u001b[38;5;124m\"\u001b[39m\u001b[38;5;124mvec:\u001b[39m\u001b[38;5;124m\"\u001b[39m, vec, paper_id, chunk_id)\n\u001b[0;32m---> 11\u001b[0m     \u001b[43mcur\u001b[49m\u001b[38;5;241;43m.\u001b[39;49m\u001b[43mexecute\u001b[49m\u001b[43m(\u001b[49m\n\u001b[1;32m     12\u001b[0m \u001b[38;5;250;43m        \u001b[39;49m\u001b[38;5;124;43;03m\"\"\"\u001b[39;49;00m\n\u001b[1;32m     13\u001b[0m \u001b[38;5;124;43;03m        UPDATE arxiv_chunks_eval_4\u001b[39;49;00m\n\u001b[1;32m     14\u001b[0m \u001b[38;5;124;43;03m           SET chunk_embedding = %s\u001b[39;49;00m\n\u001b[1;32m     15\u001b[0m \u001b[38;5;124;43;03m         WHERE paper_id = %s AND chunk_id = %s\u001b[39;49;00m\n\u001b[1;32m     16\u001b[0m \u001b[38;5;124;43;03m        \"\"\"\u001b[39;49;00m\u001b[43m,\u001b[49m\n\u001b[1;32m     17\u001b[0m \u001b[43m        \u001b[49m\u001b[43m(\u001b[49m\u001b[43mvec\u001b[49m\u001b[43m,\u001b[49m\u001b[43m \u001b[49m\u001b[43mpaper_id\u001b[49m\u001b[43m,\u001b[49m\u001b[43m \u001b[49m\u001b[43mchunk_id\u001b[49m\u001b[43m)\u001b[49m\n\u001b[1;32m     18\u001b[0m \u001b[43m    \u001b[49m\u001b[43m)\u001b[49m\n\u001b[1;32m     19\u001b[0m     count\u001b[38;5;241m+\u001b[39m\u001b[38;5;241m=\u001b[39m\u001b[38;5;241m1\u001b[39m\n\u001b[1;32m     21\u001b[0m conn\u001b[38;5;241m.\u001b[39mcommit()\n",
      "File \u001b[0;32m/Library/Developer/CommandLineTools/Library/Frameworks/Python3.framework/Versions/3.9/lib/python3.9/encodings/utf_8.py:15\u001b[0m, in \u001b[0;36mdecode\u001b[0;34m(input, errors)\u001b[0m\n\u001b[1;32m     11\u001b[0m \u001b[38;5;66;03m### Codec APIs\u001b[39;00m\n\u001b[1;32m     13\u001b[0m encode \u001b[38;5;241m=\u001b[39m codecs\u001b[38;5;241m.\u001b[39mutf_8_encode\n\u001b[0;32m---> 15\u001b[0m \u001b[38;5;28;01mdef\u001b[39;00m \u001b[38;5;21mdecode\u001b[39m(\u001b[38;5;28minput\u001b[39m, errors\u001b[38;5;241m=\u001b[39m\u001b[38;5;124m'\u001b[39m\u001b[38;5;124mstrict\u001b[39m\u001b[38;5;124m'\u001b[39m):\n\u001b[1;32m     16\u001b[0m     \u001b[38;5;28;01mreturn\u001b[39;00m codecs\u001b[38;5;241m.\u001b[39mutf_8_decode(\u001b[38;5;28minput\u001b[39m, errors, \u001b[38;5;28;01mTrue\u001b[39;00m)\n\u001b[1;32m     18\u001b[0m \u001b[38;5;28;01mclass\u001b[39;00m \u001b[38;5;21;01mIncrementalEncoder\u001b[39;00m(codecs\u001b[38;5;241m.\u001b[39mIncrementalEncoder):\n",
      "\u001b[0;31mKeyboardInterrupt\u001b[0m: "
     ]
    }
   ],
   "source": [
    "count = 0\n",
    "\n",
    "for paper_id, chunk_id, text in tqdm(rows, desc=\"Embedding\", unit=\"chunk\"):\n",
    "    if count < 3:\n",
    "        print(\"text:\", text)\n",
    "    # vec = get_embedding(text)\n",
    "    vec = get_embedding(text).tolist()\n",
    "    # print(\"\\n\\n vec len\",len(vec))\n",
    "    if count < 5:\n",
    "        print(\"vec:\", vec, paper_id, chunk_id)\n",
    "    cur.execute(\n",
    "        \"\"\"\n",
    "        UPDATE arxiv_chunks_eval_4\n",
    "           SET chunk_embedding = %s\n",
    "         WHERE paper_id = %s AND chunk_id = %s\n",
    "        \"\"\",\n",
    "        (vec, paper_id, chunk_id)\n",
    "    )\n",
    "    count+=1\n",
    "\n",
    "conn.commit()\n",
    "cur.close()\n",
    "conn.close()"
   ]
  },
  {
   "cell_type": "code",
   "execution_count": 28,
   "metadata": {},
   "outputs": [
    {
     "name": "stdout",
     "output_type": "stream",
     "text": [
      "Connected to: user=rg5073 password=xxx dbname=cleaned_meta_data_db host=129.114.27.112 port=5432\n"
     ]
    },
    {
     "name": "stderr",
     "output_type": "stream",
     "text": [
      "Embedding: 100%|██████████| 50000/50000 [1:32:35<00:00,  9.00chunk/s]  \n"
     ]
    }
   ],
   "source": [
    "from transformers import AutoTokenizer, AutoModel\n",
    "import torch\n",
    "import psycopg2\n",
    "from pgvector.psycopg2 import register_vector\n",
    "from tqdm.auto import tqdm\n",
    "import numpy as np\n",
    "\n",
    "# — Model setup (unchanged) —\n",
    "tokenizer = AutoTokenizer.from_pretrained(\"sentence-transformers/all-MiniLM-L6-v2\")\n",
    "model     = AutoModel.from_pretrained(\"sentence-transformers/all-MiniLM-L6-v2\")\n",
    "\n",
    "def get_embedding(text: str) -> np.ndarray:\n",
    "    inputs = tokenizer(text, return_tensors=\"pt\", truncation=True, padding=True)\n",
    "    with torch.no_grad():\n",
    "        emb = model(**inputs).last_hidden_state.mean(dim=1).squeeze()\n",
    "    return emb.cpu().numpy().astype(np.float32)\n",
    "\n",
    "# — DB setup —\n",
    "conn = psycopg2.connect(\n",
    "    dbname=\"cleaned_meta_data_db\",\n",
    "    user=\"rg5073\",\n",
    "    password=\"rg5073pass\",\n",
    "    host=\"129.114.27.112\",\n",
    "    port=\"5432\",\n",
    ")\n",
    "print(\"Connected to:\", conn.dsn)\n",
    "register_vector(conn)\n",
    "cur = conn.cursor()\n",
    "\n",
    "# 1) Quick column‐type check\n",
    "cur.execute(\"SELECT atttypid::regtype, attname FROM pg_attribute a JOIN pg_class c ON a.attrelid=c.oid WHERE c.relname='arxiv_chunks_eval_4' AND attname='chunk_embedding'\")\n",
    "# print(\"chunk_embedding type:\", cur.fetchone())\n",
    "\n",
    "# 2) Fetch 3 sample rows so we can test a single update\n",
    "cur.execute(\"SELECT paper_id, chunk_id, chunk_data FROM arxiv_chunks_eval_4 LIMIT 50000\")\n",
    "samples = cur.fetchall()\n",
    "# print(\"Sample rows:\", [(p, c) for p,c,_ in samples])\n",
    "\n",
    "# 3) Smoke‐test updating the very first row with a dummy vector\n",
    "paper_id, chunk_id, text0 = samples[0]\n",
    "dummy = [0.123456]*384\n",
    "cur.execute(\"\"\"\n",
    "    UPDATE arxiv_chunks_eval_4\n",
    "       SET chunk_embedding = %s\n",
    "     WHERE paper_id = %s AND chunk_id = %s\n",
    "    RETURNING chunk_embedding\n",
    "\n",
    "\"\"\", (dummy, paper_id, chunk_id))\n",
    "res = cur.fetchone()\n",
    "# print(\"Returned first 2 dims after dummy‐update:\", res)\n",
    "\n",
    "conn.commit()\n",
    "\n",
    "# 4) Now do your real loop\n",
    "rows = samples  # replace with your full list or cursor.fetchall()\n",
    "for paper_id, chunk_id, text in tqdm(rows, desc=\"Embedding\", unit=\"chunk\"):\n",
    "    vec_list = get_embedding(text).tolist()\n",
    "    cur.execute(\n",
    "        \"\"\"\n",
    "        UPDATE arxiv_chunks_eval_4\n",
    "           SET chunk_embedding = %s\n",
    "         WHERE paper_id = %s AND chunk_id = %s\n",
    "         RETURNING 1\n",
    "        \"\"\",\n",
    "        (vec_list, paper_id, chunk_id)\n",
    "    )\n",
    "    if cur.rowcount != 1:\n",
    "        print(\"⚠️  No update for\", paper_id, chunk_id)\n",
    "\n",
    "conn.commit()\n",
    "cur.close()\n",
    "conn.close()\n"
   ]
  },
  {
   "cell_type": "code",
   "execution_count": 7,
   "metadata": {},
   "outputs": [
    {
     "name": "stdout",
     "output_type": "stream",
     "text": [
      "DSN: user=rg5073 password=xxx dbname=cleaned_meta_data_db host=129.114.27.112 port=5432\n",
      "Total rows in arxiv_chunks_eval_4: 52554\n"
     ]
    }
   ],
   "source": [
    "print(\"DSN:\", conn.dsn)\n",
    "cur = conn.cursor()\n",
    "cur.execute(\"SELECT COUNT(*) FROM arxiv_chunks_eval_4;\")\n",
    "print(\"Total rows in arxiv_chunks_eval_4:\", cur.fetchone()[0])\n"
   ]
  },
  {
   "cell_type": "code",
   "execution_count": 32,
   "metadata": {},
   "outputs": [],
   "source": [
    "with open(\"arxiv_chunks_eval_3.csv\", \"w\", encoding=\"utf-8\") as f:\n",
    "    cur = conn.cursor()\n",
    "    cur.copy_expert(\"\"\"\n",
    "        COPY arxiv_chunks_eval_3 TO STDOUT WITH CSV HEADER\n",
    "    \"\"\", f)\n",
    "    cur.close()\n"
   ]
  },
  {
   "cell_type": "code",
   "execution_count": null,
   "metadata": {},
   "outputs": [],
   "source": []
  }
 ],
 "metadata": {
  "kernelspec": {
   "display_name": "Python 3",
   "language": "python",
   "name": "python3"
  },
  "language_info": {
   "codemirror_mode": {
    "name": "ipython",
    "version": 3
   },
   "file_extension": ".py",
   "mimetype": "text/x-python",
   "name": "python",
   "nbconvert_exporter": "python",
   "pygments_lexer": "ipython3",
   "version": "3.9.6"
  }
 },
 "nbformat": 4,
 "nbformat_minor": 2
}
